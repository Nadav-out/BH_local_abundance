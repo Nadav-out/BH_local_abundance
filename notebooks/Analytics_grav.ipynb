{
 "cells": [
  {
   "attachments": {},
   "cell_type": "markdown",
   "metadata": {},
   "source": [
    "### Inits"
   ]
  },
  {
   "cell_type": "code",
   "execution_count": 2,
   "metadata": {},
   "outputs": [],
   "source": [
    "import sys\n",
    "sys.path.append(\"..\")"
   ]
  },
  {
   "cell_type": "code",
   "execution_count": 231,
   "metadata": {},
   "outputs": [],
   "source": [
    "class TreeNode:\n",
    "    def __init__(self, val=0, left=None, right=None):\n",
    "        self.val = val\n",
    "        self.left = left\n",
    "        self.right = right\n",
    "\n",
    "root = TreeNode(1)\n",
    "root.right = TreeNode(2)\n",
    "root.right.left = TreeNode(3)"
   ]
  },
  {
   "cell_type": "code",
   "execution_count": 254,
   "metadata": {},
   "outputs": [
    {
     "ename": "IndentationError",
     "evalue": "unexpected indent (1542447763.py, line 6)",
     "output_type": "error",
     "traceback": [
      "\u001b[0;36m  Cell \u001b[0;32mIn[254], line 6\u001b[0;36m\u001b[0m\n\u001b[0;31m    if root:\u001b[0m\n\u001b[0m    ^\u001b[0m\n\u001b[0;31mIndentationError\u001b[0m\u001b[0;31m:\u001b[0m unexpected indent\n"
     ]
    }
   ],
   "source": [
    "def inorderTraversal(root):\n",
    "    \"\"\"\n",
    "    :type root: TreeNode\n",
    "    :rtype: List[int]\n",
    "    \"\"\"\n",
    "    if root:\n",
    "        return inorderTraversal(root.left)+root.val+inorderTraversal(root.right)\n",
    "    return []\n",
    "\n",
    "# def inorderTraversal(root):\n",
    "#     \"\"\"\n",
    "#     :type root: TreeNode\n",
    "#     :rtype: List[int]\n",
    "#     \"\"\"\n",
    "#         if root:\n",
    "#             temp=[root.val]\n",
    "#             if root.left:\n",
    "#                 print(temp,'l')\n",
    "#                 temp.extend(inorderTraversal(root.left))\n",
    "#             elif root.right:\n",
    "#                 temp.extend(inorderTraversal(root.right))\n",
    "#             return temp\n",
    "                \n",
    "#         return []"
   ]
  },
  {
   "cell_type": "code",
   "execution_count": 255,
   "metadata": {},
   "outputs": [
    {
     "name": "stdout",
     "output_type": "stream",
     "text": [
      "[2] l\n"
     ]
    },
    {
     "data": {
      "text/plain": [
       "[1, 2, 3]"
      ]
     },
     "execution_count": 255,
     "metadata": {},
     "output_type": "execute_result"
    }
   ],
   "source": [
    "inorderTraversal(root)\n",
    "# a=[1]\n",
    "# a.extend([2])\n",
    "# a"
   ]
  },
  {
   "cell_type": "code",
   "execution_count": 4,
   "metadata": {},
   "outputs": [],
   "source": [
    "from balls import *\n",
    "\n",
    "# import pylab\n",
    "from pylab import *\n",
    "\n",
    "#Matplotlib defs\n",
    "import matplotlib\n",
    "matplotlib.rcParams['text.usetex'] = True\n",
    "import matplotlib.pyplot as plt\n",
    "import matplotlib.colors as mcolors\n",
    "\n",
    "#Numpy\n",
    "import numpy as np\n",
    "from numpy.random import multivariate_normal\n",
    "\n",
    "\n",
    "from scipy import stats\n",
    "from scipy import stats\n",
    "import scipy.integrate as integrate\n",
    "from scipy.interpolate import interp1d as int1d\n",
    "from scipy.special import erfc as erfc\n",
    "from scipy.signal import savgol_filter\n",
    "from scipy.spatial.distance import cdist\n",
    "from scipy.special import erfcinv as ierfc\n",
    "\n",
    "\n",
    "import random\n",
    "\n",
    "import seaborn as sns\n",
    "\n",
    "from tqdm.notebook import *\n",
    "\n",
    "import arviz as az\n",
    "\n",
    "#Astropy\n",
    "from astropy.cosmology import Planck15 as cosmo\n",
    "from astropy.cosmology import z_at_value\n",
    "from astropy.coordinates import SkyCoord\n",
    "from astropy.coordinates import CartesianRepresentation\n",
    "import astropy.units as u\n",
    "from astropy.io import fits\n",
    "from astropy import constants as const\n",
    "\n",
    "#GetDist\n",
    "from getdist import plots, MCSamples\n",
    "import getdist"
   ]
  },
  {
   "cell_type": "code",
   "execution_count": 3,
   "metadata": {},
   "outputs": [
    {
     "data": {
      "text/html": [
       "<style>.container { width:80% !important; }</style>"
      ],
      "text/plain": [
       "<IPython.core.display.HTML object>"
      ]
     },
     "metadata": {},
     "output_type": "display_data"
    }
   ],
   "source": [
    "from IPython.core.display import display, HTML\n",
    "display(HTML(\"<style>.container { width:80% !important; }</style>\"))"
   ]
  },
  {
   "attachments": {},
   "cell_type": "markdown",
   "metadata": {},
   "source": [
    "### Data Read"
   ]
  },
  {
   "cell_type": "code",
   "execution_count": 5,
   "metadata": {},
   "outputs": [],
   "source": [
    "hdul = fits.open('../data/DR7.fits')\n",
    "data = hdul[1].data  # First extension is the table!\n",
    "ra = data['RA']\n",
    "dec = data['DEC']\n",
    "z = data['REDSHIFT']\n",
    "mass = data['LOGBH']\n",
    "dmass = data['LOGBH_ERR']\n",
    "\n",
    "\n",
    "#define restricted parameters and indicators\n",
    "m_min=7.9\n",
    "m_max=13\n",
    "z_max=2.5\n",
    "z_min=0.4\n",
    "ra_min=120\n",
    "ra_max=240\n",
    "dec_min=10\n",
    "dec_max=50\n",
    "\n",
    "inds=(mass<m_max) & (mass>m_min) & (z < z_max) & (dec > dec_min) & (dec < dec_max) & (ra > ra_min) & (ra < ra_max) & (z > z_min) \n",
    "\n",
    "# restricted arrays\n",
    "z_new=z[inds]\n",
    "dec_new=dec[inds]\n",
    "ra_new=ra[inds]\n",
    "mass_new=mass[inds]\n",
    "dmass_new=dmass[inds]\n",
    "DC_new=cosmo.comoving_distance(z_new)\n",
    "DA_new=cosmo.angular_diameter_distance(z_new)\n",
    "QSO_coord = SkyCoord(ra_new*u.degree, dec_new*u.degree, frame='icrs', distance = DC_new)\n",
    "\n",
    "\n",
    "\n",
    "# Duty-cycle digitized\n",
    "lam06=np.loadtxt(open('../../digi/lam06.csv'), delimiter=\",\")\n",
    "lam03=np.loadtxt(open('../../digi/lam03.csv'), delimiter=\",\")\n",
    "minL=np.loadtxt(open('../../digi/minL.csv'), delimiter=\",\")\n",
    "lam03=np.vstack((lam03,[lam03[-1,0]+5,lam03[-1,1]]))\n",
    "lam06=np.vstack((lam06,[lam06[-1,0]+5,lam06[-1,1]]))\n",
    "minL=np.vstack((minL,[minL[-1,0]+5,minL[-1,1]]))\n",
    "intlam06=int1d(lam06[:,0]-0.02,10**lam06[:,1],kind=1)\n",
    "intlam03=int1d(lam03[:,0]-0.01,10**lam03[:,1],kind=1)\n",
    "intminL=int1d(minL[:,0],10**minL[:,1],kind=1)\n",
    "\n",
    "# lamlis=intminL(mass_new)\n",
    "# lamlis=intlam06(mass_new)"
   ]
  },
  {
   "attachments": {},
   "cell_type": "markdown",
   "metadata": {},
   "source": [
    "### Functions and constants"
   ]
  },
  {
   "cell_type": "code",
   "execution_count": 7,
   "metadata": {
    "scrolled": true
   },
   "outputs": [],
   "source": [
    "theta_BH_const=(5*const.G*const.M_sun*u.rad/(const.c)**2).to(u.microarcsecond*u.Mpc)\n",
    "def theta_BH(logM,DA):\n",
    "    return theta_BH_const*10**logM/DA\n",
    "\n",
    "\n",
    "# M_sig relation from Ho & Kormendy 2013 in units of km/sec\n",
    "def MBH_to_sig(logM):\n",
    "    return (10**(logM-9)/0.31)**(1/4.38)*200\n",
    "\n",
    "grav_BH_const=(const.G*const.M_sun*u.rad/(u.km/u.s)**2).to(u.arcsecond*u.Mpc)\n",
    "def grav_BH(logM,DA):\n",
    "    return grav_BH_const*10**logM/DA/(MBH_to_sig(logM))**2\n",
    "\n",
    "#Co-moving to Angular Diameter distance\n",
    "# cmd_to_add=int1d(logspace(-2,4.1,200),cosmo.angular_diameter_distance(np.array([z_at_value(cosmo.comoving_distance,x*u.Mpc) for x in logspace(-2,4.1,200)])).value)"
   ]
  },
  {
   "cell_type": "code",
   "execution_count": 8,
   "metadata": {},
   "outputs": [],
   "source": [
    "lis=np.linspace(0,4,1000)\n",
    "DA_max=np.max(cosmo.angular_diameter_distance(lis)).value #Mpc\n",
    "lis=lis[:np.argmax(cosmo.angular_diameter_distance(lis))]\n",
    "DAt_lis=cosmo.angular_diameter_distance(lis).value\n",
    "DCt_lis=cosmo.comoving_distance(lis)\n",
    "DCt_lis=np.append(DCt_lis,cosmo.comoving_distance(lis[-1])).value\n",
    "DAt_lis=np.append(DAt_lis,DA_max)\n",
    "add_to_cmd=int1d(DAt_lis,DCt_lis)\n"
   ]
  },
  {
   "cell_type": "code",
   "execution_count": 9,
   "metadata": {},
   "outputs": [
    {
     "data": {
      "text/plain": [
       "(3.8617722683127633, 1.5477916719407956)"
      ]
     },
     "execution_count": 9,
     "metadata": {},
     "output_type": "execute_result"
    }
   ],
   "source": [
    "## Try\n",
    "rtest=np.loadtxt('../checks/rtest.csv',delimiter=',')\n",
    "Dtest=np.loadtxt('../checks/Dtest.csv',delimiter=',')\n",
    "DDtest=np.loadtxt('../checks/DDtest.csv',delimiter=',')\n",
    "at,bt=co_vol_23(1,rtest,Dtest,DDtest)\n",
    "np.sum(bt)/vol_1(1),np.sqrt(2*np.sum(at)/vol_1(1)+np.sum(bt)/vol_1(1)-(np.sum(bt)/vol_1(1))**2)"
   ]
  },
  {
   "cell_type": "code",
   "execution_count": 15,
   "metadata": {},
   "outputs": [],
   "source": [
    "# Find R_i for a given mass\n",
    "\n",
    "# Fake D_A*theta[muas] list (i.e. it may be larger than D_A max)\n",
    "fake_DA_theta=grav_BH(mass_new,u.Mpc)/u.arcsecond\n",
    "def Ri_theta(theta,Rmax):\n",
    "    DA_temp=fake_DA_theta/theta # divide by theta to get the fake DA\n",
    "    bol_temp=DA_temp>=DA_max # where is it larger than DA_max?\n",
    "    DA_temp[bol_temp]=np.full(np.sum(bol_temp),DA_max) # replace the ones larger than DA_max by DA_max\n",
    "    DC_temp=add_to_cmd(DA_temp) # convert DA-->DC\n",
    "    bol_temp=DC_temp>Rmax # find which ones are larger than Rmax\n",
    "    DC_temp[bol_temp]=np.full(np.sum(bol_temp),Rmax) # replace the ones larger than R_max by R_max\n",
    "    return DC_temp"
   ]
  },
  {
   "cell_type": "code",
   "execution_count": 10,
   "metadata": {},
   "outputs": [],
   "source": [
    "#Make cartsian\n",
    "def Rvec(r,q,f):\n",
    "    X=r*np.sin(q)*np.cos(f)\n",
    "    Y=r*np.sin(q)*np.sin(f)\n",
    "    Z=r*np.cos(q)\n",
    "    return np.transpose(np.array([X,Y,Z]))\n",
    "\n",
    "\n",
    "\n",
    "\n",
    "\n",
    "QSO_car=Rvec(DC_new.value,dec_new*np.pi/180,ra_new*np.pi/180)"
   ]
  },
  {
   "cell_type": "code",
   "execution_count": 11,
   "metadata": {},
   "outputs": [],
   "source": [
    "QQ_dsit=cdist(QSO_car,QSO_car)"
   ]
  },
  {
   "cell_type": "code",
   "execution_count": 12,
   "metadata": {},
   "outputs": [
    {
     "data": {
      "text/plain": [
       "800"
      ]
     },
     "execution_count": 12,
     "metadata": {},
     "output_type": "execute_result"
    }
   ],
   "source": [
    "OBS_ball_pos=np.loadtxt('../data/ball_200_800_pos.csv',delimiter=',')\n",
    "rmax=800#10**np.loadtxt('../../digi/ball_range_pos.csv',delimiter=',')[28]\n",
    "robs=200\n",
    "dist_lis=cdist(OBS_ball_pos,QSO_car)\n",
    "rmax"
   ]
  },
  {
   "cell_type": "code",
   "execution_count": 13,
   "metadata": {},
   "outputs": [
    {
     "data": {
      "text/plain": [
       "81"
      ]
     },
     "execution_count": 13,
     "metadata": {},
     "output_type": "execute_result"
    }
   ],
   "source": [
    "len(dist_lis)"
   ]
  },
  {
   "cell_type": "code",
   "execution_count": 16,
   "metadata": {},
   "outputs": [
    {
     "data": {
      "application/vnd.jupyter.widget-view+json": {
       "model_id": "2c1ce9926fd544c8a6f2f29877f9f79f",
       "version_major": 2,
       "version_minor": 0
      },
      "text/plain": [
       "  0%|          | 0/30 [00:00<?, ?it/s]"
      ]
     },
     "metadata": {},
     "output_type": "display_data"
    }
   ],
   "source": [
    "theta_logs=np.logspace(-2,2,30)\n",
    "\n",
    "\n",
    "arr_theta_700=np.zeros((len(theta_logs),len(dist_lis)))\n",
    "arr_theta_500=np.zeros((len(theta_logs),len(dist_lis)))\n",
    "arr_theta_300=np.zeros((len(theta_logs),len(dist_lis)))\n",
    "volt=vol_1(robs)\n",
    "for i,x in enumerate(tqdm(theta_logs)):\n",
    "    temp=Ri_theta(x,rmax)\n",
    "    arr_theta_700[i]=np.array([np.sum(co_vol_2(robs,temp,j)[0]) for j in (dist_lis)])/volt\n",
    "    temp=Ri_theta(x,500)\n",
    "    arr_theta_500[i]=np.array([np.sum(co_vol_2(robs,temp,j)[0]) for j in (dist_lis)])/volt\n",
    "    temp=Ri_theta(x,100)\n",
    "    arr_theta_300[i]=np.array([np.sum(co_vol_2(robs,temp,j)[0]) for j in (dist_lis)])/volt\n",
    "\n"
   ]
  },
  {
   "cell_type": "code",
   "execution_count": 17,
   "metadata": {},
   "outputs": [
    {
     "data": {
      "image/png": "[encoded data removed]",
      "text/plain": [
       "<Figure size 800x600 with 1 Axes>"
      ]
     },
     "metadata": {},
     "output_type": "display_data"
    }
   ],
   "source": [
    "fig, ax = plt.subplots(figsize=(8, 6), tight_layout=True)\n",
    "\n",
    "ax.loglog(theta_logs,np.mean(arr_theta_700,axis=1))\n",
    "ax.fill_between(theta_logs,np.mean(arr_theta_700,axis=1)+np.std(arr_theta_700,axis=1),np.mean(arr_theta_700,axis=1)-np.std(arr_theta_700,axis=1), alpha=0.2,\n",
    "                label=r'$D_{C,\\rm{max}}=800\\;\\rm{Mpc}$')\n",
    "\n",
    "ax.loglog(theta_logs,np.mean(arr_theta_500,axis=1))\n",
    "ax.fill_between(theta_logs,np.mean(arr_theta_500,axis=1)+np.std(arr_theta_500,axis=1),np.mean(arr_theta_500,axis=1)-np.std(arr_theta_500,axis=1), alpha=0.2,\n",
    "                label=r'$D_{C,\\rm{max}}=500\\;\\rm{Mpc}$')\n",
    "\n",
    "ax.loglog(theta_logs,np.mean(arr_theta_300,axis=1))\n",
    "ax.fill_between(theta_logs,np.mean(arr_theta_300,axis=1)+np.std(arr_theta_300,axis=1),np.mean(arr_theta_300,axis=1)-np.std(arr_theta_300,axis=1), alpha=0.2,\n",
    "                label=r'$D_{C,\\rm{max}}=100\\;\\rm{Mpc}$')\n",
    "\n",
    "plt.xlim(.01,4)\n",
    "plt.ylim(.001,3*10**3)\n",
    "\n",
    "plt.ylabel(r'$\\rm{Nuber\\;of\\;Quasars}$', fontsize=14)\n",
    "plt.xlabel(r'$\\theta_{\\rm min}\\;\\left[{\\rm arcsec}\\right]$', fontsize=14)\n",
    "\n",
    "plt.title(r'${\\rm Gravitational\\;Influence.}\\;\\;\\;\\;10^8\\;M_\\odot<M_{\\rm QSO}$', fontsize=16)\n",
    "\n",
    "\n",
    "ax.tick_params(axis='both', which='both', direction='in', top=True,right=True)\n",
    "\n",
    "ax.legend(loc='upper right',fontsize=10) \n",
    "\n",
    "plt.savefig('../figs/grav_tot_all.pdf')\n",
    "\n",
    "plt.show()"
   ]
  },
  {
   "cell_type": "code",
   "execution_count": 19,
   "metadata": {},
   "outputs": [
    {
     "data": {
      "application/vnd.jupyter.widget-view+json": {
       "model_id": "9853edc31afd4af89f1079a6c40e2a8f",
       "version_major": 2,
       "version_minor": 0
      },
      "text/plain": [
       "  0%|          | 0/30 [00:00<?, ?it/s]"
      ]
     },
     "metadata": {},
     "output_type": "display_data"
    }
   ],
   "source": [
    "theta_logs=np.logspace(-2,2,30)\n",
    "\n",
    "mass_inds=mass_new<10.5\n",
    "\n",
    "dist_lis_less=dist_lis\n",
    "arr_theta_700=np.zeros((len(theta_logs),len(dist_lis)))\n",
    "arr_theta_500=np.zeros((len(theta_logs),len(dist_lis)))\n",
    "arr_theta_300=np.zeros((len(theta_logs),len(dist_lis)))\n",
    "volt=vol_1(robs)\n",
    "for i,x in enumerate(tqdm(theta_logs)):\n",
    "    temp=Ri_theta(x,rmax)[mass_inds]\n",
    "    arr_theta_700[i]=np.array([np.sum(co_vol_2(robs,temp,j[mass_inds])[0]) for j in (dist_lis)])/volt\n",
    "    temp=Ri_theta(x,500)[mass_inds]\n",
    "    arr_theta_500[i]=np.array([np.sum(co_vol_2(robs,temp,j[mass_inds])[0]) for j in (dist_lis)])/volt\n",
    "    temp=Ri_theta(x,100)[mass_inds]\n",
    "    arr_theta_300[i]=np.array([np.sum(co_vol_2(robs,temp,j[mass_inds])[0]) for j in (dist_lis)])/volt\n",
    "\n"
   ]
  },
  {
   "cell_type": "code",
   "execution_count": 20,
   "metadata": {},
   "outputs": [
    {
     "data": {
      "image/png": "[encoded data removed]",
      "text/plain": [
       "<Figure size 800x600 with 1 Axes>"
      ]
     },
     "metadata": {},
     "output_type": "display_data"
    }
   ],
   "source": [
    "fig, ax = plt.subplots(figsize=(8, 6), tight_layout=True)\n",
    "\n",
    "ax.loglog(theta_logs,np.mean(arr_theta_700,axis=1))\n",
    "ax.fill_between(theta_logs,np.mean(arr_theta_700,axis=1)+np.std(arr_theta_700,axis=1),np.mean(arr_theta_700,axis=1)-np.std(arr_theta_700,axis=1), alpha=0.2,\n",
    "                label=r'$D_{C,\\rm{max}}=800\\;\\rm{Mpc}$')\n",
    "\n",
    "ax.loglog(theta_logs,np.mean(arr_theta_500,axis=1))\n",
    "ax.fill_between(theta_logs,np.mean(arr_theta_500,axis=1)+np.std(arr_theta_500,axis=1),np.mean(arr_theta_500,axis=1)-np.std(arr_theta_500,axis=1), alpha=0.2,\n",
    "                label=r'$D_{C,\\rm{max}}=500\\;\\rm{Mpc}$')\n",
    "\n",
    "ax.loglog(theta_logs,np.mean(arr_theta_300,axis=1))\n",
    "ax.fill_between(theta_logs,np.mean(arr_theta_300,axis=1)+np.std(arr_theta_300,axis=1),np.mean(arr_theta_300,axis=1)-np.std(arr_theta_300,axis=1), alpha=0.2,\n",
    "                label=r'$D_{C,\\rm{max}}=100\\;\\rm{Mpc}$')\n",
    "\n",
    "plt.xlim(.01,4)\n",
    "plt.ylim(.001,3*10**3)\n",
    "\n",
    "plt.ylabel(r'$\\rm{Nuber\\;of\\;Quasars}$', fontsize=14)\n",
    "plt.xlabel(r'$\\theta_{\\rm min}\\;\\left[{\\rm arcsec}\\right]$', fontsize=14)\n",
    "\n",
    "plt.title(r'${\\rm Gravitational\\;Influence.}\\;\\;\\;\\;10^8\\;M_\\odot<M_{\\rm QSO}<10^{10.5}\\;M_\\odot$', fontsize=16)\n",
    "\n",
    "\n",
    "\n",
    "\n",
    "ax.legend(loc='upper right',fontsize=10) \n",
    "\n",
    "ax.tick_params(axis='both', which='both', direction='in', top=True,right=True)\n",
    "\n",
    "plt.savefig('../figs/grav_tot_limited.pdf')\n",
    "\n",
    "\n",
    "plt.show()"
   ]
  },
  {
   "cell_type": "code",
   "execution_count": 21,
   "metadata": {},
   "outputs": [
    {
     "data": {
      "application/vnd.jupyter.widget-view+json": {
       "model_id": "000d84326df74439b0e361c2e4f0022d",
       "version_major": 2,
       "version_minor": 0
      },
      "text/plain": [
       "  0%|          | 0/30 [00:00<?, ?it/s]"
      ]
     },
     "metadata": {},
     "output_type": "display_data"
    },
    {
     "data": {
      "application/vnd.jupyter.widget-view+json": {
       "model_id": "707902b8437946bdb2c2babb8b88e2a3",
       "version_major": 2,
       "version_minor": 0
      },
      "text/plain": [
       "  0%|          | 0/81 [00:00<?, ?it/s]"
      ]
     },
     "metadata": {},
     "output_type": "display_data"
    },
    {
     "data": {
      "application/vnd.jupyter.widget-view+json": {
       "model_id": "efe539b5b5c54e7e9d7ce261518a92bb",
       "version_major": 2,
       "version_minor": 0
      },
      "text/plain": [
       "  0%|          | 0/81 [00:00<?, ?it/s]"
      ]
     },
     "metadata": {},
     "output_type": "display_data"
    },
    {
     "data": {
      "application/vnd.jupyter.widget-view+json": {
       "model_id": "01c2c3ccb5c44fbaabc956238dbdf261",
       "version_major": 2,
       "version_minor": 0
      },
      "text/plain": [
       "  0%|          | 0/81 [00:00<?, ?it/s]"
      ]
     },
     "metadata": {},
     "output_type": "display_data"
    },
    {
     "data": {
      "application/vnd.jupyter.widget-view+json": {
       "model_id": "a0909078a9f743ccbad565fed38899e8",
       "version_major": 2,
       "version_minor": 0
      },
      "text/plain": [
       "  0%|          | 0/81 [00:00<?, ?it/s]"
      ]
     },
     "metadata": {},
     "output_type": "display_data"
    },
    {
     "data": {
      "application/vnd.jupyter.widget-view+json": {
       "model_id": "ed44678b4bb64536932ad63c60206586",
       "version_major": 2,
       "version_minor": 0
      },
      "text/plain": [
       "  0%|          | 0/81 [00:00<?, ?it/s]"
      ]
     },
     "metadata": {},
     "output_type": "display_data"
    },
    {
     "data": {
      "application/vnd.jupyter.widget-view+json": {
       "model_id": "10222c8b24e74434956f5946edcd64f5",
       "version_major": 2,
       "version_minor": 0
      },
      "text/plain": [
       "  0%|          | 0/81 [00:00<?, ?it/s]"
      ]
     },
     "metadata": {},
     "output_type": "display_data"
    },
    {
     "data": {
      "application/vnd.jupyter.widget-view+json": {
       "model_id": "502a6f42744e4c3bbb3ec93a997f01cb",
       "version_major": 2,
       "version_minor": 0
      },
      "text/plain": [
       "  0%|          | 0/81 [00:00<?, ?it/s]"
      ]
     },
     "metadata": {},
     "output_type": "display_data"
    },
    {
     "data": {
      "application/vnd.jupyter.widget-view+json": {
       "model_id": "1d3bbfc5077c4a218eff16d1a35934e5",
       "version_major": 2,
       "version_minor": 0
      },
      "text/plain": [
       "  0%|          | 0/81 [00:00<?, ?it/s]"
      ]
     },
     "metadata": {},
     "output_type": "display_data"
    },
    {
     "data": {
      "application/vnd.jupyter.widget-view+json": {
       "model_id": "dfb5ddcc750746e598ff9508ae28ed7a",
       "version_major": 2,
       "version_minor": 0
      },
      "text/plain": [
       "  0%|          | 0/81 [00:00<?, ?it/s]"
      ]
     },
     "metadata": {},
     "output_type": "display_data"
    },
    {
     "data": {
      "application/vnd.jupyter.widget-view+json": {
       "model_id": "c47840ffc367470198cad233aa9d9bb3",
       "version_major": 2,
       "version_minor": 0
      },
      "text/plain": [
       "  0%|          | 0/81 [00:00<?, ?it/s]"
      ]
     },
     "metadata": {},
     "output_type": "display_data"
    },
    {
     "data": {
      "application/vnd.jupyter.widget-view+json": {
       "model_id": "0ab6bacb8cea4d8e863848d4af1cce74",
       "version_major": 2,
       "version_minor": 0
      },
      "text/plain": [
       "  0%|          | 0/81 [00:00<?, ?it/s]"
      ]
     },
     "metadata": {},
     "output_type": "display_data"
    },
    {
     "data": {
      "application/vnd.jupyter.widget-view+json": {
       "model_id": "cf99c0ffe0a744f09dc9f1f68a3f5267",
       "version_major": 2,
       "version_minor": 0
      },
      "text/plain": [
       "  0%|          | 0/81 [00:00<?, ?it/s]"
      ]
     },
     "metadata": {},
     "output_type": "display_data"
    },
    {
     "data": {
      "application/vnd.jupyter.widget-view+json": {
       "model_id": "b717eb02ed424742a4b6cbabda780366",
       "version_major": 2,
       "version_minor": 0
      },
      "text/plain": [
       "  0%|          | 0/81 [00:00<?, ?it/s]"
      ]
     },
     "metadata": {},
     "output_type": "display_data"
    },
    {
     "data": {
      "application/vnd.jupyter.widget-view+json": {
       "model_id": "c9ccca555ada428ea586d369d7e6b39a",
       "version_major": 2,
       "version_minor": 0
      },
      "text/plain": [
       "  0%|          | 0/81 [00:00<?, ?it/s]"
      ]
     },
     "metadata": {},
     "output_type": "display_data"
    },
    {
     "data": {
      "application/vnd.jupyter.widget-view+json": {
       "model_id": "f8fc49f4e9d54ac69ec56bd9d8a8cd64",
       "version_major": 2,
       "version_minor": 0
      },
      "text/plain": [
       "  0%|          | 0/81 [00:00<?, ?it/s]"
      ]
     },
     "metadata": {},
     "output_type": "display_data"
    },
    {
     "data": {
      "application/vnd.jupyter.widget-view+json": {
       "model_id": "14f72ac6941646fcbb0a42be81bed458",
       "version_major": 2,
       "version_minor": 0
      },
      "text/plain": [
       "  0%|          | 0/81 [00:00<?, ?it/s]"
      ]
     },
     "metadata": {},
     "output_type": "display_data"
    },
    {
     "data": {
      "application/vnd.jupyter.widget-view+json": {
       "model_id": "b5118d02aa7941bb9a7a3459986ea52b",
       "version_major": 2,
       "version_minor": 0
      },
      "text/plain": [
       "  0%|          | 0/81 [00:00<?, ?it/s]"
      ]
     },
     "metadata": {},
     "output_type": "display_data"
    },
    {
     "data": {
      "application/vnd.jupyter.widget-view+json": {
       "model_id": "442cec35637d4f52af9d769ea66b83a1",
       "version_major": 2,
       "version_minor": 0
      },
      "text/plain": [
       "  0%|          | 0/81 [00:00<?, ?it/s]"
      ]
     },
     "metadata": {},
     "output_type": "display_data"
    },
    {
     "data": {
      "application/vnd.jupyter.widget-view+json": {
       "model_id": "5ba676887f6148fabd4231811c230dd6",
       "version_major": 2,
       "version_minor": 0
      },
      "text/plain": [
       "  0%|          | 0/81 [00:00<?, ?it/s]"
      ]
     },
     "metadata": {},
     "output_type": "display_data"
    },
    {
     "data": {
      "application/vnd.jupyter.widget-view+json": {
       "model_id": "7b123b14a21c4dddab6b26804167e9d9",
       "version_major": 2,
       "version_minor": 0
      },
      "text/plain": [
       "  0%|          | 0/81 [00:00<?, ?it/s]"
      ]
     },
     "metadata": {},
     "output_type": "display_data"
    },
    {
     "data": {
      "application/vnd.jupyter.widget-view+json": {
       "model_id": "7b61d90e8d954c2e8348c66710088225",
       "version_major": 2,
       "version_minor": 0
      },
      "text/plain": [
       "  0%|          | 0/81 [00:00<?, ?it/s]"
      ]
     },
     "metadata": {},
     "output_type": "display_data"
    },
    {
     "data": {
      "application/vnd.jupyter.widget-view+json": {
       "model_id": "c664a2381cd845b1b986b9b94a8470ce",
       "version_major": 2,
       "version_minor": 0
      },
      "text/plain": [
       "  0%|          | 0/81 [00:00<?, ?it/s]"
      ]
     },
     "metadata": {},
     "output_type": "display_data"
    },
    {
     "data": {
      "application/vnd.jupyter.widget-view+json": {
       "model_id": "9d88ed74119140298e4aa5c9c2d7a3d0",
       "version_major": 2,
       "version_minor": 0
      },
      "text/plain": [
       "  0%|          | 0/81 [00:00<?, ?it/s]"
      ]
     },
     "metadata": {},
     "output_type": "display_data"
    },
    {
     "data": {
      "application/vnd.jupyter.widget-view+json": {
       "model_id": "2b6e305807204744a7990f2f9ec952b9",
       "version_major": 2,
       "version_minor": 0
      },
      "text/plain": [
       "  0%|          | 0/81 [00:00<?, ?it/s]"
      ]
     },
     "metadata": {},
     "output_type": "display_data"
    },
    {
     "data": {
      "application/vnd.jupyter.widget-view+json": {
       "model_id": "4df8c8adbb264d3cabfa45d896ae0165",
       "version_major": 2,
       "version_minor": 0
      },
      "text/plain": [
       "  0%|          | 0/81 [00:00<?, ?it/s]"
      ]
     },
     "metadata": {},
     "output_type": "display_data"
    },
    {
     "data": {
      "application/vnd.jupyter.widget-view+json": {
       "model_id": "d751238d04a74aa6acabd255e0d542cb",
       "version_major": 2,
       "version_minor": 0
      },
      "text/plain": [
       "  0%|          | 0/81 [00:00<?, ?it/s]"
      ]
     },
     "metadata": {},
     "output_type": "display_data"
    },
    {
     "data": {
      "application/vnd.jupyter.widget-view+json": {
       "model_id": "53bdda2fb83b49cd8987e24dabddc0b6",
       "version_major": 2,
       "version_minor": 0
      },
      "text/plain": [
       "  0%|          | 0/81 [00:00<?, ?it/s]"
      ]
     },
     "metadata": {},
     "output_type": "display_data"
    },
    {
     "data": {
      "application/vnd.jupyter.widget-view+json": {
       "model_id": "7baf5f9106a44ee6961e839088090cda",
       "version_major": 2,
       "version_minor": 0
      },
      "text/plain": [
       "  0%|          | 0/81 [00:00<?, ?it/s]"
      ]
     },
     "metadata": {},
     "output_type": "display_data"
    },
    {
     "data": {
      "application/vnd.jupyter.widget-view+json": {
       "model_id": "a85ab63e5af44598ba4a95d6ede5825f",
       "version_major": 2,
       "version_minor": 0
      },
      "text/plain": [
       "  0%|          | 0/81 [00:00<?, ?it/s]"
      ]
     },
     "metadata": {},
     "output_type": "display_data"
    },
    {
     "data": {
      "application/vnd.jupyter.widget-view+json": {
       "model_id": "fa82bd521e63425eab1e11bf59e8074a",
       "version_major": 2,
       "version_minor": 0
      },
      "text/plain": [
       "  0%|          | 0/81 [00:00<?, ?it/s]"
      ]
     },
     "metadata": {},
     "output_type": "display_data"
    },
    {
     "data": {
      "application/vnd.jupyter.widget-view+json": {
       "model_id": "6ec270c5a0894484bc84baedb1c6382f",
       "version_major": 2,
       "version_minor": 0
      },
      "text/plain": [
       "  0%|          | 0/81 [00:00<?, ?it/s]"
      ]
     },
     "metadata": {},
     "output_type": "display_data"
    },
    {
     "data": {
      "application/vnd.jupyter.widget-view+json": {
       "model_id": "b5c7e7024b4944cda3e3d542cbbac003",
       "version_major": 2,
       "version_minor": 0
      },
      "text/plain": [
       "  0%|          | 0/81 [00:00<?, ?it/s]"
      ]
     },
     "metadata": {},
     "output_type": "display_data"
    },
    {
     "data": {
      "application/vnd.jupyter.widget-view+json": {
       "model_id": "70f2119f935b458d942b520cddfadeb9",
       "version_major": 2,
       "version_minor": 0
      },
      "text/plain": [
       "  0%|          | 0/81 [00:00<?, ?it/s]"
      ]
     },
     "metadata": {},
     "output_type": "display_data"
    },
    {
     "data": {
      "application/vnd.jupyter.widget-view+json": {
       "model_id": "5e3b09c6dbae4dbe8d2c6e34edfdab14",
       "version_major": 2,
       "version_minor": 0
      },
      "text/plain": [
       "  0%|          | 0/81 [00:00<?, ?it/s]"
      ]
     },
     "metadata": {},
     "output_type": "display_data"
    },
    {
     "data": {
      "application/vnd.jupyter.widget-view+json": {
       "model_id": "6fe8aa3068fd4a4ca00166663353ed1d",
       "version_major": 2,
       "version_minor": 0
      },
      "text/plain": [
       "  0%|          | 0/81 [00:00<?, ?it/s]"
      ]
     },
     "metadata": {},
     "output_type": "display_data"
    },
    {
     "data": {
      "application/vnd.jupyter.widget-view+json": {
       "model_id": "3286ec1004ea4442b47796afada9f3f8",
       "version_major": 2,
       "version_minor": 0
      },
      "text/plain": [
       "  0%|          | 0/81 [00:00<?, ?it/s]"
      ]
     },
     "metadata": {},
     "output_type": "display_data"
    },
    {
     "data": {
      "application/vnd.jupyter.widget-view+json": {
       "model_id": "5dd5798230734111ada44677fb41d34e",
       "version_major": 2,
       "version_minor": 0
      },
      "text/plain": [
       "  0%|          | 0/81 [00:00<?, ?it/s]"
      ]
     },
     "metadata": {},
     "output_type": "display_data"
    },
    {
     "data": {
      "application/vnd.jupyter.widget-view+json": {
       "model_id": "9cd8fec3ac0b4e5cbcacfff3eccaca3f",
       "version_major": 2,
       "version_minor": 0
      },
      "text/plain": [
       "  0%|          | 0/81 [00:00<?, ?it/s]"
      ]
     },
     "metadata": {},
     "output_type": "display_data"
    },
    {
     "data": {
      "application/vnd.jupyter.widget-view+json": {
       "model_id": "bf31aef6073c48268f9d43ebf6733139",
       "version_major": 2,
       "version_minor": 0
      },
      "text/plain": [
       "  0%|          | 0/81 [00:00<?, ?it/s]"
      ]
     },
     "metadata": {},
     "output_type": "display_data"
    },
    {
     "data": {
      "application/vnd.jupyter.widget-view+json": {
       "model_id": "90839046d6ec4f4b9c2234de2ab10afe",
       "version_major": 2,
       "version_minor": 0
      },
      "text/plain": [
       "  0%|          | 0/81 [00:00<?, ?it/s]"
      ]
     },
     "metadata": {},
     "output_type": "display_data"
    },
    {
     "data": {
      "application/vnd.jupyter.widget-view+json": {
       "model_id": "bc29b2d8ec8d4b6ab615388fc8af121b",
       "version_major": 2,
       "version_minor": 0
      },
      "text/plain": [
       "  0%|          | 0/81 [00:00<?, ?it/s]"
      ]
     },
     "metadata": {},
     "output_type": "display_data"
    },
    {
     "data": {
      "application/vnd.jupyter.widget-view+json": {
       "model_id": "ae4af36dd94d4f7cbd97631ad38c77ae",
       "version_major": 2,
       "version_minor": 0
      },
      "text/plain": [
       "  0%|          | 0/81 [00:00<?, ?it/s]"
      ]
     },
     "metadata": {},
     "output_type": "display_data"
    },
    {
     "data": {
      "application/vnd.jupyter.widget-view+json": {
       "model_id": "162bcb9a5edd4be29c9678e1876d543d",
       "version_major": 2,
       "version_minor": 0
      },
      "text/plain": [
       "  0%|          | 0/81 [00:00<?, ?it/s]"
      ]
     },
     "metadata": {},
     "output_type": "display_data"
    },
    {
     "data": {
      "application/vnd.jupyter.widget-view+json": {
       "model_id": "2be9039bac474112a693bb3b4cd571ee",
       "version_major": 2,
       "version_minor": 0
      },
      "text/plain": [
       "  0%|          | 0/81 [00:00<?, ?it/s]"
      ]
     },
     "metadata": {},
     "output_type": "display_data"
    },
    {
     "data": {
      "application/vnd.jupyter.widget-view+json": {
       "model_id": "c40da0b133644f8cb755ad22e0dd7a4d",
       "version_major": 2,
       "version_minor": 0
      },
      "text/plain": [
       "  0%|          | 0/81 [00:00<?, ?it/s]"
      ]
     },
     "metadata": {},
     "output_type": "display_data"
    },
    {
     "data": {
      "application/vnd.jupyter.widget-view+json": {
       "model_id": "80ca2aff47d84e19b9ce36e486210160",
       "version_major": 2,
       "version_minor": 0
      },
      "text/plain": [
       "  0%|          | 0/81 [00:00<?, ?it/s]"
      ]
     },
     "metadata": {},
     "output_type": "display_data"
    },
    {
     "data": {
      "application/vnd.jupyter.widget-view+json": {
       "model_id": "54ca596be2fb41abb5e9bbfc59377232",
       "version_major": 2,
       "version_minor": 0
      },
      "text/plain": [
       "  0%|          | 0/81 [00:00<?, ?it/s]"
      ]
     },
     "metadata": {},
     "output_type": "display_data"
    },
    {
     "data": {
      "application/vnd.jupyter.widget-view+json": {
       "model_id": "b05395e5762e464a835a140335f784ee",
       "version_major": 2,
       "version_minor": 0
      },
      "text/plain": [
       "  0%|          | 0/81 [00:00<?, ?it/s]"
      ]
     },
     "metadata": {},
     "output_type": "display_data"
    },
    {
     "data": {
      "application/vnd.jupyter.widget-view+json": {
       "model_id": "f73b94b086d940c49094fb6460ab31f8",
       "version_major": 2,
       "version_minor": 0
      },
      "text/plain": [
       "  0%|          | 0/81 [00:00<?, ?it/s]"
      ]
     },
     "metadata": {},
     "output_type": "display_data"
    },
    {
     "data": {
      "application/vnd.jupyter.widget-view+json": {
       "model_id": "49d18c321a854ec28e9a41656519e617",
       "version_major": 2,
       "version_minor": 0
      },
      "text/plain": [
       "  0%|          | 0/81 [00:00<?, ?it/s]"
      ]
     },
     "metadata": {},
     "output_type": "display_data"
    },
    {
     "data": {
      "application/vnd.jupyter.widget-view+json": {
       "model_id": "2951feda8eca4615b3a73e640034c635",
       "version_major": 2,
       "version_minor": 0
      },
      "text/plain": [
       "  0%|          | 0/81 [00:00<?, ?it/s]"
      ]
     },
     "metadata": {},
     "output_type": "display_data"
    },
    {
     "data": {
      "application/vnd.jupyter.widget-view+json": {
       "model_id": "60834ae5f2b4475a97ebed378366dd82",
       "version_major": 2,
       "version_minor": 0
      },
      "text/plain": [
       "  0%|          | 0/81 [00:00<?, ?it/s]"
      ]
     },
     "metadata": {},
     "output_type": "display_data"
    },
    {
     "data": {
      "application/vnd.jupyter.widget-view+json": {
       "model_id": "881ef0121ba3490d8c99aff002ad398c",
       "version_major": 2,
       "version_minor": 0
      },
      "text/plain": [
       "  0%|          | 0/81 [00:00<?, ?it/s]"
      ]
     },
     "metadata": {},
     "output_type": "display_data"
    },
    {
     "data": {
      "application/vnd.jupyter.widget-view+json": {
       "model_id": "358aec69d57c4e21903040d42619252d",
       "version_major": 2,
       "version_minor": 0
      },
      "text/plain": [
       "  0%|          | 0/81 [00:00<?, ?it/s]"
      ]
     },
     "metadata": {},
     "output_type": "display_data"
    },
    {
     "data": {
      "application/vnd.jupyter.widget-view+json": {
       "model_id": "89a5161bdb12478c8b6807c3f8fea061",
       "version_major": 2,
       "version_minor": 0
      },
      "text/plain": [
       "  0%|          | 0/81 [00:00<?, ?it/s]"
      ]
     },
     "metadata": {},
     "output_type": "display_data"
    },
    {
     "data": {
      "application/vnd.jupyter.widget-view+json": {
       "model_id": "a65d280529244860b37dbd5a72c9c042",
       "version_major": 2,
       "version_minor": 0
      },
      "text/plain": [
       "  0%|          | 0/81 [00:00<?, ?it/s]"
      ]
     },
     "metadata": {},
     "output_type": "display_data"
    },
    {
     "data": {
      "application/vnd.jupyter.widget-view+json": {
       "model_id": "fa7e35d86ad34ee0a3ca49b7bfbd5a8c",
       "version_major": 2,
       "version_minor": 0
      },
      "text/plain": [
       "  0%|          | 0/81 [00:00<?, ?it/s]"
      ]
     },
     "metadata": {},
     "output_type": "display_data"
    },
    {
     "data": {
      "application/vnd.jupyter.widget-view+json": {
       "model_id": "26eb3751991448568e63e9d58d27f969",
       "version_major": 2,
       "version_minor": 0
      },
      "text/plain": [
       "  0%|          | 0/81 [00:00<?, ?it/s]"
      ]
     },
     "metadata": {},
     "output_type": "display_data"
    },
    {
     "data": {
      "application/vnd.jupyter.widget-view+json": {
       "model_id": "1f1e43787b36419f9b76d216608e0420",
       "version_major": 2,
       "version_minor": 0
      },
      "text/plain": [
       "  0%|          | 0/81 [00:00<?, ?it/s]"
      ]
     },
     "metadata": {},
     "output_type": "display_data"
    },
    {
     "data": {
      "application/vnd.jupyter.widget-view+json": {
       "model_id": "94fbbcab3a5b4f189c54116c154e9bc2",
       "version_major": 2,
       "version_minor": 0
      },
      "text/plain": [
       "  0%|          | 0/81 [00:00<?, ?it/s]"
      ]
     },
     "metadata": {},
     "output_type": "display_data"
    },
    {
     "data": {
      "application/vnd.jupyter.widget-view+json": {
       "model_id": "d1c43891b12d470a8f268b4891e36271",
       "version_major": 2,
       "version_minor": 0
      },
      "text/plain": [
       "  0%|          | 0/81 [00:00<?, ?it/s]"
      ]
     },
     "metadata": {},
     "output_type": "display_data"
    },
    {
     "data": {
      "application/vnd.jupyter.widget-view+json": {
       "model_id": "e46b2aa3b2154e7fa1e71902b2ae6317",
       "version_major": 2,
       "version_minor": 0
      },
      "text/plain": [
       "  0%|          | 0/81 [00:00<?, ?it/s]"
      ]
     },
     "metadata": {},
     "output_type": "display_data"
    },
    {
     "data": {
      "application/vnd.jupyter.widget-view+json": {
       "model_id": "ec24a2c34d59475fbf142e94b879eab9",
       "version_major": 2,
       "version_minor": 0
      },
      "text/plain": [
       "  0%|          | 0/81 [00:00<?, ?it/s]"
      ]
     },
     "metadata": {},
     "output_type": "display_data"
    },
    {
     "data": {
      "application/vnd.jupyter.widget-view+json": {
       "model_id": "9dab950e5a294935acc473a6d44a3f17",
       "version_major": 2,
       "version_minor": 0
      },
      "text/plain": [
       "  0%|          | 0/81 [00:00<?, ?it/s]"
      ]
     },
     "metadata": {},
     "output_type": "display_data"
    },
    {
     "data": {
      "application/vnd.jupyter.widget-view+json": {
       "model_id": "ff3a1578ef2141fa938420e446a2e709",
       "version_major": 2,
       "version_minor": 0
      },
      "text/plain": [
       "  0%|          | 0/81 [00:00<?, ?it/s]"
      ]
     },
     "metadata": {},
     "output_type": "display_data"
    },
    {
     "data": {
      "application/vnd.jupyter.widget-view+json": {
       "model_id": "7c9c0b053f94455ab6c766feb83e8ff3",
       "version_major": 2,
       "version_minor": 0
      },
      "text/plain": [
       "  0%|          | 0/81 [00:00<?, ?it/s]"
      ]
     },
     "metadata": {},
     "output_type": "display_data"
    },
    {
     "data": {
      "application/vnd.jupyter.widget-view+json": {
       "model_id": "2b714ee9ddd9466db0643bac0c381544",
       "version_major": 2,
       "version_minor": 0
      },
      "text/plain": [
       "  0%|          | 0/81 [00:00<?, ?it/s]"
      ]
     },
     "metadata": {},
     "output_type": "display_data"
    },
    {
     "data": {
      "application/vnd.jupyter.widget-view+json": {
       "model_id": "f1356dd552184bd7ba7dcb73d74f2f2c",
       "version_major": 2,
       "version_minor": 0
      },
      "text/plain": [
       "  0%|          | 0/81 [00:00<?, ?it/s]"
      ]
     },
     "metadata": {},
     "output_type": "display_data"
    },
    {
     "data": {
      "application/vnd.jupyter.widget-view+json": {
       "model_id": "1b88e292feb546418ee1793df6966c88",
       "version_major": 2,
       "version_minor": 0
      },
      "text/plain": [
       "  0%|          | 0/81 [00:00<?, ?it/s]"
      ]
     },
     "metadata": {},
     "output_type": "display_data"
    },
    {
     "data": {
      "application/vnd.jupyter.widget-view+json": {
       "model_id": "20428aab30aa470eb44d0b9349f26e23",
       "version_major": 2,
       "version_minor": 0
      },
      "text/plain": [
       "  0%|          | 0/81 [00:00<?, ?it/s]"
      ]
     },
     "metadata": {},
     "output_type": "display_data"
    },
    {
     "data": {
      "application/vnd.jupyter.widget-view+json": {
       "model_id": "44acda8b96674c9ea73d17138ebeb18b",
       "version_major": 2,
       "version_minor": 0
      },
      "text/plain": [
       "  0%|          | 0/81 [00:00<?, ?it/s]"
      ]
     },
     "metadata": {},
     "output_type": "display_data"
    },
    {
     "data": {
      "application/vnd.jupyter.widget-view+json": {
       "model_id": "f9d63b0376a54580a410adad0d0119d2",
       "version_major": 2,
       "version_minor": 0
      },
      "text/plain": [
       "  0%|          | 0/81 [00:00<?, ?it/s]"
      ]
     },
     "metadata": {},
     "output_type": "display_data"
    },
    {
     "data": {
      "application/vnd.jupyter.widget-view+json": {
       "model_id": "f332320c69e2402ea8ed0812b180c157",
       "version_major": 2,
       "version_minor": 0
      },
      "text/plain": [
       "  0%|          | 0/81 [00:00<?, ?it/s]"
      ]
     },
     "metadata": {},
     "output_type": "display_data"
    },
    {
     "data": {
      "application/vnd.jupyter.widget-view+json": {
       "model_id": "baa36aa58e2d46dd99e4bdeeed71e416",
       "version_major": 2,
       "version_minor": 0
      },
      "text/plain": [
       "  0%|          | 0/81 [00:00<?, ?it/s]"
      ]
     },
     "metadata": {},
     "output_type": "display_data"
    },
    {
     "data": {
      "application/vnd.jupyter.widget-view+json": {
       "model_id": "aeb3af1661ef47e189af7003ba02a9ef",
       "version_major": 2,
       "version_minor": 0
      },
      "text/plain": [
       "  0%|          | 0/81 [00:00<?, ?it/s]"
      ]
     },
     "metadata": {},
     "output_type": "display_data"
    },
    {
     "data": {
      "application/vnd.jupyter.widget-view+json": {
       "model_id": "a9a96e4887e34b07be44c8534e028fb7",
       "version_major": 2,
       "version_minor": 0
      },
      "text/plain": [
       "  0%|          | 0/81 [00:00<?, ?it/s]"
      ]
     },
     "metadata": {},
     "output_type": "display_data"
    },
    {
     "data": {
      "application/vnd.jupyter.widget-view+json": {
       "model_id": "1e62056104c045628088a1aafabc7685",
       "version_major": 2,
       "version_minor": 0
      },
      "text/plain": [
       "  0%|          | 0/81 [00:00<?, ?it/s]"
      ]
     },
     "metadata": {},
     "output_type": "display_data"
    },
    {
     "data": {
      "application/vnd.jupyter.widget-view+json": {
       "model_id": "300296104724438a91728bef72ba3484",
       "version_major": 2,
       "version_minor": 0
      },
      "text/plain": [
       "  0%|          | 0/81 [00:00<?, ?it/s]"
      ]
     },
     "metadata": {},
     "output_type": "display_data"
    },
    {
     "data": {
      "application/vnd.jupyter.widget-view+json": {
       "model_id": "8fb75583a18c441a94db842a5feaffd8",
       "version_major": 2,
       "version_minor": 0
      },
      "text/plain": [
       "  0%|          | 0/81 [00:00<?, ?it/s]"
      ]
     },
     "metadata": {},
     "output_type": "display_data"
    },
    {
     "data": {
      "application/vnd.jupyter.widget-view+json": {
       "model_id": "3e3fb5d5cfbd41acb526da26252762b8",
       "version_major": 2,
       "version_minor": 0
      },
      "text/plain": [
       "  0%|          | 0/81 [00:00<?, ?it/s]"
      ]
     },
     "metadata": {},
     "output_type": "display_data"
    },
    {
     "data": {
      "application/vnd.jupyter.widget-view+json": {
       "model_id": "cd4f3ba3149d4ea890bc02f77e4e6688",
       "version_major": 2,
       "version_minor": 0
      },
      "text/plain": [
       "  0%|          | 0/81 [00:00<?, ?it/s]"
      ]
     },
     "metadata": {},
     "output_type": "display_data"
    },
    {
     "data": {
      "application/vnd.jupyter.widget-view+json": {
       "model_id": "98c8f974737c4ccda9b274f906decbfc",
       "version_major": 2,
       "version_minor": 0
      },
      "text/plain": [
       "  0%|          | 0/81 [00:00<?, ?it/s]"
      ]
     },
     "metadata": {},
     "output_type": "display_data"
    },
    {
     "data": {
      "application/vnd.jupyter.widget-view+json": {
       "model_id": "de8ae16948b342179576147ab16a8dd9",
       "version_major": 2,
       "version_minor": 0
      },
      "text/plain": [
       "  0%|          | 0/81 [00:00<?, ?it/s]"
      ]
     },
     "metadata": {},
     "output_type": "display_data"
    },
    {
     "data": {
      "application/vnd.jupyter.widget-view+json": {
       "model_id": "b0c96debb6eb428ba3920b8338350a0e",
       "version_major": 2,
       "version_minor": 0
      },
      "text/plain": [
       "  0%|          | 0/81 [00:00<?, ?it/s]"
      ]
     },
     "metadata": {},
     "output_type": "display_data"
    },
    {
     "data": {
      "application/vnd.jupyter.widget-view+json": {
       "model_id": "fc420904f26545418db054a0002050b0",
       "version_major": 2,
       "version_minor": 0
      },
      "text/plain": [
       "  0%|          | 0/81 [00:00<?, ?it/s]"
      ]
     },
     "metadata": {},
     "output_type": "display_data"
    },
    {
     "data": {
      "application/vnd.jupyter.widget-view+json": {
       "model_id": "cd7ea3999a5b451086492c00dd89f35c",
       "version_major": 2,
       "version_minor": 0
      },
      "text/plain": [
       "  0%|          | 0/81 [00:00<?, ?it/s]"
      ]
     },
     "metadata": {},
     "output_type": "display_data"
    },
    {
     "data": {
      "application/vnd.jupyter.widget-view+json": {
       "model_id": "c04e8e2acdbc4a768433e560a4917ac1",
       "version_major": 2,
       "version_minor": 0
      },
      "text/plain": [
       "  0%|          | 0/81 [00:00<?, ?it/s]"
      ]
     },
     "metadata": {},
     "output_type": "display_data"
    },
    {
     "data": {
      "application/vnd.jupyter.widget-view+json": {
       "model_id": "026ccc9fc64e447d932329f7d9939f2e",
       "version_major": 2,
       "version_minor": 0
      },
      "text/plain": [
       "  0%|          | 0/81 [00:00<?, ?it/s]"
      ]
     },
     "metadata": {},
     "output_type": "display_data"
    },
    {
     "data": {
      "application/vnd.jupyter.widget-view+json": {
       "model_id": "ae68c1bce47e498cbc460be68afe793f",
       "version_major": 2,
       "version_minor": 0
      },
      "text/plain": [
       "  0%|          | 0/81 [00:00<?, ?it/s]"
      ]
     },
     "metadata": {},
     "output_type": "display_data"
    },
    {
     "data": {
      "application/vnd.jupyter.widget-view+json": {
       "model_id": "04c3396bf43e4786825d7e190d891e86",
       "version_major": 2,
       "version_minor": 0
      },
      "text/plain": [
       "  0%|          | 0/81 [00:00<?, ?it/s]"
      ]
     },
     "metadata": {},
     "output_type": "display_data"
    }
   ],
   "source": [
    "volvol=vol_1(robs)\n",
    "N_rmax=np.zeros(len(theta_logs))\n",
    "S_rmax=np.zeros(len(theta_logs))\n",
    "N_temp=np.zeros(len(dist_lis))\n",
    "S_temp=np.zeros(len(dist_lis))\n",
    "for i,x in enumerate(tqdm(theta_logs)):\n",
    "    temp=Ri_theta(x,100)\n",
    "    for j,y in enumerate(tqdm(dist_lis,leave=False)):\n",
    "        temp3,temp2=co_vol_23(robs,temp,y,QQ_dsit)\n",
    "        N_temp[j]=np.sum(temp2)\n",
    "        S_temp[j]=np.sum(temp3)\n",
    "    N_rmax[i],S_rmax[i]=np.mean(N_temp)/volvol,np.sqrt(2*np.mean(S_temp)/volvol+np.mean(N_temp)/volvol-(np.mean(N_temp)/volvol)**2)\n",
    "    temp=Ri_theta(x,500)\n",
    "    for j,y in enumerate(tqdm(dist_lis,leave=False)):\n",
    "        temp3,temp2=co_vol_23(robs,temp,y,QQ_dsit)\n",
    "        N_temp[j]=np.sum(temp2)\n",
    "        S_temp[j]=np.sum(temp3)\n",
    "    N_rmax[i],S_rmax[i]=np.mean(N_temp)/volvol,np.sqrt(2*np.mean(S_temp)/volvol+np.mean(N_temp)/volvol-(np.mean(N_temp)/volvol)**2)\n",
    "    temp=Ri_theta(x,800)\n",
    "    for j,y in enumerate(tqdm(dist_lis,leave=False)):\n",
    "        temp3,temp2=co_vol_23(robs,temp,y,QQ_dsit)\n",
    "        N_temp[j]=np.sum(temp2)\n",
    "        S_temp[j]=np.sum(temp3)\n",
    "    N_rmax[i],S_rmax[i]=np.mean(N_temp)/volvol,np.sqrt(2*np.mean(S_temp)/volvol+np.mean(N_temp)/volvol-(np.mean(N_temp)/volvol)**2)\n",
    "    "
   ]
  },
  {
   "cell_type": "code",
   "execution_count": 31,
   "metadata": {},
   "outputs": [
    {
     "data": {
      "image/png": "[encoded data removed]",
      "text/plain": [
       "<Figure size 576x432 with 1 Axes>"
      ]
     },
     "metadata": {
      "needs_background": "light"
     },
     "output_type": "display_data"
    }
   ],
   "source": [
    "fig, ax = plt.subplots(figsize=(8, 6), tight_layout=True)\n",
    "\n",
    "ax.loglog(theta_logs,np.mean(arr_theta_700,axis=1))\n",
    "ax.fill_between(theta_logs,np.mean(arr_theta_700,axis=1)+np.std(arr_theta_700,axis=1),np.mean(arr_theta_700,axis=1)-np.std(arr_theta_700,axis=1), alpha=0.2,\n",
    "                label=r'$D_{C,\\rm{max}}=700\\;\\rm{Mpc}$')\n",
    "\n",
    "ax.loglog(theta_logs,np.mean(arr_theta_500,axis=1))\n",
    "ax.fill_between(theta_logs,np.mean(arr_theta_500,axis=1)+np.std(arr_theta_500,axis=1),np.mean(arr_theta_500,axis=1)-np.std(arr_theta_500,axis=1), alpha=0.2,\n",
    "                label=r'$D_{C,\\rm{max}}=500\\;\\rm{Mpc}$')\n",
    "\n",
    "ax.loglog(theta_logs,np.mean(arr_theta_300,axis=1))\n",
    "ax.fill_between(theta_logs,np.mean(arr_theta_300,axis=1)+np.std(arr_theta_300,axis=1),np.mean(arr_theta_300,axis=1)-np.std(arr_theta_300,axis=1), alpha=0.2,\n",
    "                label=r'$D_{C,\\rm{max}}=300\\;\\rm{Mpc}$')\n",
    "\n",
    "ax.loglog(theta_logs,N_rmax)\n",
    "ax.fill_between(theta_logs,N_rmax+S_rmax,N_rmax-S_rmax,alpha=0.2)\n",
    "\n",
    "plt.xlim(.01,4)\n",
    "plt.ylim(.1,2*10**3)\n",
    "\n",
    "plt.ylabel(r'$\\rm{Nuber\\;of\\;Quasars}$', fontsize=14)\n",
    "plt.xlabel(r'$\\theta_{\\rm min}\\;\\left[\\mu{\\rm arcsec}\\right]$', fontsize=14)\n",
    "\n",
    "ax.legend(loc='upper right',fontsize=10) \n",
    "\n",
    "plt.show()"
   ]
  },
  {
   "attachments": {},
   "cell_type": "markdown",
   "metadata": {},
   "source": [
    "# Distance"
   ]
  },
  {
   "cell_type": "code",
   "execution_count": 15,
   "metadata": {},
   "outputs": [
    {
     "data": {
      "application/vnd.jupyter.widget-view+json": {
       "model_id": "8ca920830169487e8d614c0fd4aea34d",
       "version_major": 2,
       "version_minor": 0
      },
      "text/plain": [
       "HBox(children=(IntProgress(value=0, max=25), HTML(value='')))"
      ]
     },
     "metadata": {},
     "output_type": "display_data"
    },
    {
     "name": "stdout",
     "output_type": "stream",
     "text": [
      "\n"
     ]
    }
   ],
   "source": [
    "OBS_ball_pos=np.loadtxt('../data/ball_200_1000_pos.csv',delimiter=',')\n",
    "rmax=1000\n",
    "dist_logs=np.logspace(0,np.log10(rmax),25)\n",
    "robs=200\n",
    "\n",
    "\n",
    "volt=vol_1(robs)\n",
    "arr_dist_p01=np.zeros((len(dist_logs),len(dist_lis)))\n",
    "arr_dist_p1=np.zeros((len(dist_logs),len(dist_lis)))\n",
    "arr_dist_1=np.zeros((len(dist_logs),len(dist_lis)))\n",
    "for i,x in enumerate(tqdm(dist_logs)):\n",
    "    tempp1=Ri_theta(.1,x)\n",
    "    temp1=Ri_theta(1,x)\n",
    "    tempp01=Ri_theta(.01,x)\n",
    "    arr_dist_p1[i]=np.array([np.sum(co_vol_2(robs,tempp1,j)[0]) for j in (dist_lis)])/volt\n",
    "    arr_dist_1[i]=np.array([np.sum(co_vol_2(robs,temp1,j)[0]) for j in (dist_lis)])/volt\n",
    "    arr_dist_p01[i]=np.array([np.sum(co_vol_2(robs,tempp01,j)[0]) for j in (dist_lis)])/volt\n",
    "    "
   ]
  },
  {
   "cell_type": "code",
   "execution_count": 16,
   "metadata": {},
   "outputs": [
    {
     "data": {
      "image/png": "[encoded data removed]",
      "text/plain": [
       "<Figure size 576x432 with 1 Axes>"
      ]
     },
     "metadata": {
      "needs_background": "light"
     },
     "output_type": "display_data"
    }
   ],
   "source": [
    "dd=np.diff(np.log10(dist_logs))[0]\n",
    "dist_logs_diff=np.sqrt(dist_logs[1:]*dist_logs[:-1])\n",
    "arr_diff_dist_p1=np.diff(arr_dist_p1,axis=0)/dd\n",
    "arr_diff_dist_1=np.diff(arr_dist_1,axis=0)/dd\n",
    "arr_diff_dist_p01=np.diff(arr_dist_p01,axis=0)/dd\n",
    "\n",
    "fig, ax = plt.subplots(figsize=(8, 6), tight_layout=True)\n",
    "\n",
    "ax.loglog(dist_logs_diff,np.mean(arr_diff_dist_p01,axis=1))\n",
    "ax.fill_between(dist_logs_diff,np.mean(arr_diff_dist_p01,axis=1)+np.std(arr_diff_dist_p01,axis=1),np.mean(arr_diff_dist_p01,axis=1)-np.std(arr_diff_dist_p01,axis=1), alpha=0.2,\n",
    "                label=r'$\\theta_{\\rm min}=0.01\\;{\\rm arcsec}$')\n",
    "\n",
    "ax.loglog(dist_logs_diff,np.mean(arr_diff_dist_p1,axis=1))\n",
    "ax.fill_between(dist_logs_diff,np.mean(arr_diff_dist_p1,axis=1)+np.std(arr_diff_dist_p1,axis=1),np.mean(arr_diff_dist_p1,axis=1)-np.std(arr_diff_dist_p1,axis=1), alpha=0.2,\n",
    "                label=r'$\\theta_{\\rm min}=0.1\\;{\\rm arcsec}$')\n",
    "\n",
    "ax.loglog(dist_logs_diff,np.mean(arr_diff_dist_1,axis=1))\n",
    "ax.fill_between(dist_logs_diff,np.mean(arr_diff_dist_1,axis=1)+np.std(arr_diff_dist_1,axis=1),np.mean(arr_diff_dist_1,axis=1)-np.std(arr_diff_dist_1,axis=1), alpha=0.2,\n",
    "                label=r'$\\theta_{\\rm min}=1\\;{\\rm arcsec}$')\n",
    "\n",
    "\n",
    "\n",
    "plt.xlim(1,600)\n",
    "plt.ylim(10**(-3),3*10**3)\n",
    "\n",
    "plt.ylabel(r'$\\rm{dN_{QSO}/d\\log_{10}D_C}$', fontsize=14)\n",
    "plt.xlabel(r'$D_{C,\\rm{max}}\\;\\left[\\rm{Mpc}\\right]$', fontsize=14)\n",
    "plt.title(r'${\\rm Gravitational\\;Influence.}\\;\\;\\;\\;10^8\\;M_\\odot<M_{\\rm QSO}$', fontsize=16)\n",
    "\n",
    "ax.legend(loc='upper left',fontsize=10) \n",
    "\n",
    "ax.tick_params(axis='both', which='both', direction='in', top=True,right=True)\n",
    "\n",
    "plt.savefig('../figs/grav_dNdD_all.pdf')\n",
    "\n",
    "\n",
    "plt.show()"
   ]
  },
  {
   "cell_type": "code",
   "execution_count": 19,
   "metadata": {},
   "outputs": [
    {
     "data": {
      "application/vnd.jupyter.widget-view+json": {
       "model_id": "d7b17eecff9f4719a4f82ca245f4b9cc",
       "version_major": 2,
       "version_minor": 0
      },
      "text/plain": [
       "HBox(children=(IntProgress(value=0, max=25), HTML(value='')))"
      ]
     },
     "metadata": {},
     "output_type": "display_data"
    },
    {
     "name": "stdout",
     "output_type": "stream",
     "text": [
      "\n"
     ]
    }
   ],
   "source": [
    "OBS_ball_pos=np.loadtxt('../data/ball_200_1000_pos.csv',delimiter=',')\n",
    "rmax=1000\n",
    "dist_logs=np.logspace(0,np.log10(rmax),25)\n",
    "robs=200\n",
    "\n",
    "\n",
    "volt=vol_1(robs)\n",
    "arr_dist_p01=np.zeros((len(dist_logs),len(dist_lis)))\n",
    "arr_dist_p1=np.zeros((len(dist_logs),len(dist_lis)))\n",
    "arr_dist_1=np.zeros((len(dist_logs),len(dist_lis)))\n",
    "for i,x in enumerate(tqdm(dist_logs)):\n",
    "    tempp1=Ri_theta(.1,x)[mass_inds]\n",
    "    temp1=Ri_theta(1,x)[mass_inds]\n",
    "    tempp01=Ri_theta(.01,x)[mass_inds]\n",
    "    arr_dist_p1[i]=np.array([np.sum(co_vol_2(robs,tempp1,j[mass_inds])[0]) for j in (dist_lis)])/volt\n",
    "    arr_dist_1[i]=np.array([np.sum(co_vol_2(robs,temp1,j[mass_inds])[0]) for j in (dist_lis)])/volt\n",
    "    arr_dist_p01[i]=np.array([np.sum(co_vol_2(robs,tempp01,j[mass_inds])[0]) for j in (dist_lis)])/volt\n",
    "    "
   ]
  },
  {
   "cell_type": "code",
   "execution_count": 20,
   "metadata": {},
   "outputs": [
    {
     "data": {
      "image/png": "[encoded data removed]",
      "text/plain": [
       "<Figure size 576x432 with 1 Axes>"
      ]
     },
     "metadata": {
      "needs_background": "light"
     },
     "output_type": "display_data"
    }
   ],
   "source": [
    "dd=np.diff(np.log10(dist_logs))[0]\n",
    "dist_logs_diff=np.sqrt(dist_logs[1:]*dist_logs[:-1])\n",
    "arr_diff_dist_p1=np.diff(arr_dist_p1,axis=0)/dd\n",
    "arr_diff_dist_1=np.diff(arr_dist_1,axis=0)/dd\n",
    "arr_diff_dist_p01=np.diff(arr_dist_p01,axis=0)/dd\n",
    "\n",
    "fig, ax = plt.subplots(figsize=(8, 6), tight_layout=True)\n",
    "\n",
    "ax.loglog(dist_logs_diff,np.mean(arr_diff_dist_p01,axis=1))\n",
    "ax.fill_between(dist_logs_diff,np.mean(arr_diff_dist_p01,axis=1)+np.std(arr_diff_dist_p01,axis=1),np.mean(arr_diff_dist_p01,axis=1)-np.std(arr_diff_dist_p01,axis=1), alpha=0.2,\n",
    "                label=r'$\\theta_{\\rm min}=0.01\\;{\\rm arcsec}$')\n",
    "\n",
    "ax.loglog(dist_logs_diff,np.mean(arr_diff_dist_p1,axis=1))\n",
    "ax.fill_between(dist_logs_diff,np.mean(arr_diff_dist_p1,axis=1)+np.std(arr_diff_dist_p1,axis=1),np.mean(arr_diff_dist_p1,axis=1)-np.std(arr_diff_dist_p1,axis=1), alpha=0.2,\n",
    "                label=r'$\\theta_{\\rm min}=0.1\\;{\\rm arcsec}$')\n",
    "\n",
    "ax.loglog(dist_logs_diff,np.mean(arr_diff_dist_1,axis=1))\n",
    "ax.fill_between(dist_logs_diff,np.mean(arr_diff_dist_1,axis=1)+np.std(arr_diff_dist_1,axis=1),np.mean(arr_diff_dist_1,axis=1)-np.std(arr_diff_dist_1,axis=1), alpha=0.2,\n",
    "                label=r'$\\theta_{\\rm min}=1\\;{\\rm arcsec}$')\n",
    "\n",
    "\n",
    "\n",
    "plt.xlim(1,600)\n",
    "plt.ylim(10**(-3),3*10**3)\n",
    "\n",
    "plt.ylabel(r'$\\rm{dN_{QSO}/d\\log_{10}D_C}$', fontsize=14)\n",
    "plt.xlabel(r'$D_{C,\\rm{max}}\\;\\left[\\rm{Mpc}\\right]$', fontsize=14)\n",
    "plt.title(r'${\\rm Gravitational\\;Influence.}\\;\\;\\;\\;10^8\\;M_\\odot<M_{\\rm QSO}<10^{10.5}\\;M_\\odot$', fontsize=16)\n",
    "\n",
    "ax.legend(loc='upper left',fontsize=10) \n",
    "\n",
    "ax.tick_params(axis='both', which='both', direction='in', top=True,right=True)\n",
    "\n",
    "plt.savefig('../figs/grav_dNdD_limited.pdf')\n",
    "\n",
    "\n",
    "plt.show()"
   ]
  },
  {
   "attachments": {},
   "cell_type": "markdown",
   "metadata": {},
   "source": [
    "# Mass function"
   ]
  },
  {
   "cell_type": "code",
   "execution_count": 189,
   "metadata": {},
   "outputs": [
    {
     "data": {
      "application/vnd.jupyter.widget-view+json": {
       "model_id": "2c979bc0f0ad4264b1e7b35c67cc3771",
       "version_major": 2,
       "version_minor": 0
      },
      "text/plain": [
       "HBox(children=(IntProgress(value=0, max=24), HTML(value='')))"
      ]
     },
     "metadata": {},
     "output_type": "display_data"
    },
    {
     "name": "stdout",
     "output_type": "stream",
     "text": [
      "\n"
     ]
    }
   ],
   "source": [
    "mass_bins=np.linspace(np.min(mass_new),np.max(mass_new),25)\n",
    "OBS_ball_pos=np.loadtxt('../data/ball_200_700_pos.csv',delimiter=',')\n",
    "rmax=700\n",
    "robs=200\n",
    "volt=vol_1(robs)\n",
    "\n",
    "\n",
    "arr_mass_1=np.zeros((len(mass_bins),len(dist_lis)))\n",
    "arr_mass_p1=np.zeros((len(mass_bins),len(dist_lis)))\n",
    "arr_mass_pp1=np.zeros((len(mass_bins),len(dist_lis)))\n",
    "\n",
    "\n",
    "for i,x in enumerate(tqdm(mass_bins[1:])):\n",
    "    tind=(mass_new>mass_bins[i]) & (mass_new<x)\n",
    "    temp=Ri_theta(1,rmax)[tind]\n",
    "    arr_mass_1[i]=np.array([np.sum(co_vol_2(robs,temp,j[tind])[0]) for j in (dist_lis)])/volt\n",
    "    temp=Ri_theta(.1,rmax)[tind]\n",
    "    arr_mass_p1[i]=np.array([np.sum(co_vol_2(robs,temp,j[tind])[0]) for j in (dist_lis)])/volt\n",
    "    temp=Ri_theta(.01,rmax)[tind]\n",
    "    arr_mass_pp1[i]=np.array([np.sum(co_vol_2(robs,temp,j[tind])[0]) for j in (dist_lis)])/volt"
   ]
  },
  {
   "cell_type": "code",
   "execution_count": 190,
   "metadata": {},
   "outputs": [
    {
     "data": {
      "image/png": "[encoded data removed]",
      "text/plain": [
       "<Figure size 576x432 with 1 Axes>"
      ]
     },
     "metadata": {
      "needs_background": "light"
     },
     "output_type": "display_data"
    }
   ],
   "source": [
    "fig, ax = plt.subplots(figsize=(8, 6), tight_layout=True)\n",
    "\n",
    "ax.loglog(10**mass_bins,np.mean(arr_mass_pp1,axis=1))\n",
    "ax.fill_between(10**mass_bins,np.mean(arr_mass_pp1,axis=1)+np.std(arr_mass_pp1,axis=1),np.mean(arr_mass_pp1,axis=1)-np.std(arr_mass_pp1,axis=1), alpha=0.2,\n",
    "                label=r'$\\theta_{\\rm min}=0.01\\;\\rm{arcsec}$')\n",
    "\n",
    "ax.loglog(10**mass_bins,np.mean(arr_mass_p1,axis=1))\n",
    "ax.fill_between(10**mass_bins,np.mean(arr_mass_p1,axis=1)+np.std(arr_mass_p1,axis=1),np.mean(arr_mass_p1,axis=1)-np.std(arr_mass_p1,axis=1), alpha=0.2,\n",
    "                label=r'$\\theta_{\\rm min}=0.1\\;\\rm{arcsec}$')\n",
    "\n",
    "ax.loglog(10**mass_bins,np.mean(arr_mass_1,axis=1))\n",
    "ax.fill_between(10**mass_bins,np.mean(arr_mass_1,axis=1)+np.std(arr_mass_1,axis=1),np.mean(arr_mass_1,axis=1)-np.std(arr_mass_1,axis=1), alpha=0.2,\n",
    "                label=r'$\\theta_{\\rm min}=1\\;\\rm{arcsec}$')\n",
    "\n",
    "\n",
    "plt.xlim(10**8,10**11.5)\n",
    "plt.ylim(10**(-4),2*10**3)\n",
    "\n",
    "plt.ylabel(r'$\\rm{dN_{QSO}/d\\log_{10}M_{\\rm QSO}}$', fontsize=14)\n",
    "plt.xlabel(r'$M_{\\rm QSO}\\;\\left[M_\\odot\\right]$', fontsize=14)\n",
    "\n",
    "plt.title(r'${\\rm Gravitational\\;Influence.}\\;\\;\\;\\;D_{C,\\rm{max}}=700\\;\\rm Mpc$', fontsize=16)\n",
    "\n",
    "ax.legend(loc='upper right',fontsize=10) \n",
    "\n",
    "ax.tick_params(axis='both', which='both', direction='in', top=True,right=True)\n",
    "\n",
    "plt.savefig('../figs/grav_dNdM_all.pdf')\n",
    "\n",
    "plt.show()"
   ]
  },
  {
   "cell_type": "code",
   "execution_count": 173,
   "metadata": {},
   "outputs": [
    {
     "data": {
      "text/plain": [
       "array([ 8.04233873,  8.18444554,  8.32655234,  8.46865914,  8.61076595,\n",
       "        8.75287275,  8.89497956,  9.03708636,  9.17919316,  9.32129997,\n",
       "        9.46340677,  9.60551358,  9.74762038,  9.88972718, 10.03183399,\n",
       "       10.17394079, 10.3160476 , 10.4581544 ])"
      ]
     },
     "execution_count": 173,
     "metadata": {},
     "output_type": "execute_result"
    }
   ],
   "source": [
    "mass_bins[1:-6]"
   ]
  },
  {
   "cell_type": "code",
   "execution_count": 187,
   "metadata": {},
   "outputs": [
    {
     "data": {
      "application/vnd.jupyter.widget-view+json": {
       "model_id": "6cc37141a9fc42e4bbdff77a3ae760cc",
       "version_major": 2,
       "version_minor": 0
      },
      "text/plain": [
       "HBox(children=(IntProgress(value=0, max=18), HTML(value='')))"
      ]
     },
     "metadata": {},
     "output_type": "display_data"
    },
    {
     "name": "stdout",
     "output_type": "stream",
     "text": [
      "\n"
     ]
    }
   ],
   "source": [
    "OBS_ball_pos=np.loadtxt('../data/ball_200_700_pos.csv',delimiter=',')\n",
    "rmax=700\n",
    "robs=200\n",
    "volt=vol_1(robs)\n",
    "\n",
    "arr_mass_1=np.zeros((len(mass_bins),len(dist_lis)))\n",
    "arr_mass_p1=np.zeros((len(mass_bins),len(dist_lis)))\n",
    "arr_mass_pp1=np.zeros((len(mass_bins),len(dist_lis)))\n",
    "\n",
    "\n",
    "for i,x in enumerate(tqdm(mass_bins[1:-6])):\n",
    "    tind=(mass_new>mass_bins[i]) & (mass_new<x)\n",
    "    temp=Ri_theta(1,rmax)[tind]\n",
    "    arr_mass_1[i]=np.array([np.sum(co_vol_2(robs,temp,j[tind])[0]) for j in (dist_lis)])/volt\n",
    "    temp=Ri_theta(.1,rmax)[tind]\n",
    "    arr_mass_p1[i]=np.array([np.sum(co_vol_2(robs,temp,j[tind])[0]) for j in (dist_lis)])/volt\n",
    "    temp=Ri_theta(.01,rmax)[tind]\n",
    "    arr_mass_pp1[i]=np.array([np.sum(co_vol_2(robs,temp,j[tind])[0]) for j in (dist_lis)])/volt"
   ]
  },
  {
   "cell_type": "code",
   "execution_count": 188,
   "metadata": {},
   "outputs": [
    {
     "data": {
      "image/png": "[encoded data removed]",
      "text/plain": [
       "<Figure size 576x432 with 1 Axes>"
      ]
     },
     "metadata": {
      "needs_background": "light"
     },
     "output_type": "display_data"
    }
   ],
   "source": [
    "fig, ax = plt.subplots(figsize=(8, 6), tight_layout=True)\n",
    "\n",
    "ax.loglog(10**mass_bins,np.mean(arr_mass_pp1,axis=1))\n",
    "ax.fill_between(10**mass_bins,np.mean(arr_mass_pp1,axis=1)+np.std(arr_mass_pp1,axis=1),np.mean(arr_mass_pp1,axis=1)-np.std(arr_mass_pp1,axis=1), alpha=0.2,\n",
    "                label=r'$\\theta_{\\rm min}=0.01\\;\\rm{arcsec}$')\n",
    "\n",
    "ax.loglog(10**mass_bins,np.mean(arr_mass_p1,axis=1))\n",
    "ax.fill_between(10**mass_bins,np.mean(arr_mass_p1,axis=1)+np.std(arr_mass_p1,axis=1),np.mean(arr_mass_p1,axis=1)-np.std(arr_mass_p1,axis=1), alpha=0.2,\n",
    "                label=r'$\\theta_{\\rm min}=0.1\\;\\rm{arcsec}$')\n",
    "\n",
    "ax.loglog(10**mass_bins,np.mean(arr_mass_1,axis=1))\n",
    "ax.fill_between(10**mass_bins,np.mean(arr_mass_1,axis=1)+np.std(arr_mass_1,axis=1),np.mean(arr_mass_1,axis=1)-np.std(arr_mass_1,axis=1), alpha=0.2,\n",
    "                label=r'$\\theta_{\\rm min}=1\\;\\rm{arcsec}$')\n",
    "\n",
    "\n",
    "plt.xlim(10**8,10**11.5)\n",
    "plt.ylim(10**(-4),2*10**3)\n",
    "\n",
    "plt.ylabel(r'$\\rm{dN_{QSO}/d\\log_{10}M_{\\rm QSO}}$', fontsize=14)\n",
    "plt.xlabel(r'$M_{\\rm QSO}\\;\\left[M_\\odot\\right]$', fontsize=14)\n",
    "\n",
    "plt.title(r'${\\rm Gravitational\\;Influence.}\\;\\;\\;\\;D_{C,\\rm{max}}=700\\;\\rm Mpc$', fontsize=16)\n",
    "\n",
    "ax.legend(loc='upper right',fontsize=10) \n",
    "\n",
    "ax.tick_params(axis='both', which='both', direction='in', top=True,right=True)\n",
    "\n",
    "plt.savefig('../figs/grav_dNdM_limited.pdf')\n",
    "\n",
    "plt.show()"
   ]
  },
  {
   "cell_type": "code",
   "execution_count": 186,
   "metadata": {},
   "outputs": [
    {
     "data": {
      "application/vnd.jupyter.widget-view+json": {
       "model_id": "e52f45df1ff84f5899acd5699c0c4053",
       "version_major": 2,
       "version_minor": 0
      },
      "text/plain": [
       "HBox(children=(IntProgress(value=0, max=18), HTML(value='')))"
      ]
     },
     "metadata": {},
     "output_type": "display_data"
    },
    {
     "name": "stdout",
     "output_type": "stream",
     "text": [
      "7.9002319286690845 8.042338732650737\n",
      "8.042338732650737 8.184445536632392\n",
      "8.184445536632392 8.326552340614045\n",
      "8.326552340614045 8.468659144595698\n",
      "8.468659144595698 8.610765948577352\n",
      "8.610765948577352 8.752872752559005\n",
      "8.752872752559005 8.894979556540658\n",
      "8.894979556540658 9.037086360522313\n",
      "9.037086360522313 9.179193164503966\n",
      "9.179193164503966 9.321299968485619\n",
      "9.321299968485619 9.463406772467273\n",
      "9.463406772467273 9.605513576448926\n",
      "9.605513576448926 9.747620380430579\n",
      "9.747620380430579 9.889727184412234\n",
      "9.889727184412234 10.031833988393887\n",
      "10.031833988393887 10.17394079237554\n",
      "10.17394079237554 10.316047596357194\n",
      "10.316047596357194 10.458154400338847\n",
      "\n"
     ]
    }
   ],
   "source": [
    "for i,x in enumerate(tqdm(mass_bins[1:-6])):\n",
    "    print(mass_bins[i],x)"
   ]
  },
  {
   "cell_type": "code",
   "execution_count": 45,
   "metadata": {},
   "outputs": [
    {
     "data": {
      "image/png": "[encoded data removed]",
      "text/plain": [
       "<Figure size 432x288 with 1 Axes>"
      ]
     },
     "metadata": {
      "needs_background": "light"
     },
     "output_type": "display_data"
    }
   ],
   "source": [
    "plt.hist(mass_new[mass_new>10],bins=50)\n",
    "plt.yscale('log')\n",
    "plt.show()"
   ]
  },
  {
   "cell_type": "code",
   "execution_count": null,
   "metadata": {},
   "outputs": [],
   "source": []
  }
 ],
 "metadata": {
  "kernelspec": {
   "display_name": "Python 3",
   "language": "python",
   "name": "python3"
  },
  "language_info": {
   "codemirror_mode": {
    "name": "ipython",
    "version": 3
   },
   "file_extension": ".py",
   "mimetype": "text/x-python",
   "name": "python",
   "nbconvert_exporter": "python",
   "pygments_lexer": "ipython3",
   "version": "3.9.16"
  },
  "widgets": {
   "application/vnd.jupyter.widget-state+json": {
    "state": {},
    "version_major": 2,
    "version_minor": 0
   }
  }
 },
 "nbformat": 4,
 "nbformat_minor": 4
}
