{
 "cells": [
  {
   "cell_type": "markdown",
   "metadata": {},
   "source": [
    "### Inits"
   ]
  },
  {
   "cell_type": "code",
   "execution_count": 1,
   "metadata": {},
   "outputs": [],
   "source": [
    "# import pylab\n",
    "from pylab import *\n",
    "\n",
    "#Matplotlib defs\n",
    "import matplotlib\n",
    "matplotlib.rcParams['text.usetex'] = True\n",
    "import matplotlib.pyplot as plt\n",
    "import matplotlib.colors as mcolors\n",
    "\n",
    "#Numpy\n",
    "import numpy as np\n",
    "from numpy.random import multivariate_normal\n",
    "\n",
    "\n",
    "from scipy import stats\n",
    "from scipy import stats\n",
    "import scipy.integrate as integrate\n",
    "from scipy.interpolate import interp1d as int1d\n",
    "from scipy.special import erfc as erfc\n",
    "from scipy.signal import savgol_filter\n",
    "from scipy.spatial.distance import cdist\n",
    "\n",
    "\n",
    "import random\n",
    "\n",
    "import seaborn as sns\n",
    "\n",
    "from tqdm.notebook import *\n",
    "\n",
    "import arviz as az\n",
    "\n",
    "#Astropy\n",
    "from astropy.cosmology import Planck15 as cosmo\n",
    "from astropy.cosmology import z_at_value\n",
    "from astropy.coordinates import SkyCoord\n",
    "from astropy.coordinates import CartesianRepresentation\n",
    "import astropy.units as u\n",
    "from astropy.io import fits\n",
    "from astropy import constants as const\n",
    "\n",
    "#GetDist\n",
    "from getdist import plots, MCSamples\n",
    "import getdist"
   ]
  },
  {
   "cell_type": "code",
   "execution_count": 2,
   "metadata": {},
   "outputs": [
    {
     "data": {
      "text/html": [
       "<style>.container { width:80% !important; }</style>"
      ],
      "text/plain": [
       "<IPython.core.display.HTML object>"
      ]
     },
     "metadata": {},
     "output_type": "display_data"
    }
   ],
   "source": [
    "from IPython.core.display import display, HTML\n",
    "display(HTML(\"<style>.container { width:80% !important; }</style>\"))"
   ]
  },
  {
   "cell_type": "markdown",
   "metadata": {},
   "source": [
    "### Data Read"
   ]
  },
  {
   "cell_type": "code",
   "execution_count": 3,
   "metadata": {},
   "outputs": [],
   "source": [
    "hdul = fits.open('DR7.fits')\n",
    "data = hdul[1].data  # First extension is the table!\n",
    "ra = data['RA']\n",
    "dec = data['DEC']\n",
    "z = data['REDSHIFT']\n",
    "mass = data['LOGBH']\n",
    "dmass = data['LOGBH_ERR']\n",
    "\n",
    "\n",
    "#define restricted parameters and indicators\n",
    "m_min=8\n",
    "m_max=13\n",
    "z_max=2.5\n",
    "z_min=0.4\n",
    "ra_min=120\n",
    "ra_max=240\n",
    "dec_min=10\n",
    "dec_max=50\n",
    "\n",
    "inds=(mass<m_max) & (mass>m_min) & (z < z_max) & (dec > dec_min) & (dec < dec_max) & (ra > ra_min) & (ra < ra_max) & (z > z_min) \n",
    "\n",
    "# restricted arrays\n",
    "z_new=z[inds]\n",
    "dec_new=dec[inds]\n",
    "ra_new=ra[inds]\n",
    "mass_new=mass[inds]\n",
    "dmass_new=dmass[inds]\n",
    "DC_new=cosmo.comoving_distance(z_new)\n",
    "DA_new=cosmo.angular_diameter_distance(z_new)\n",
    "QSO_coord = SkyCoord(ra_new*u.degree, dec_new*u.degree, frame='icrs', distance = DC_new)\n",
    "\n",
    "\n",
    "\n",
    "# Duty-cycle digitized\n",
    "lam06=np.loadtxt(open('../digi/lam06.csv'), delimiter=\",\")\n",
    "lam03=np.loadtxt(open('../digi/lam03.csv'), delimiter=\",\")\n",
    "minL=np.loadtxt(open('../digi/minL.csv'), delimiter=\",\")\n",
    "lam03=np.vstack((lam03,[lam03[-1,0]+5,lam03[-1,1]]))\n",
    "lam06=np.vstack((lam06,[lam06[-1,0]+5,lam06[-1,1]]))\n",
    "minL=np.vstack((minL,[minL[-1,0]+5,minL[-1,1]]))\n",
    "intlam06=int1d(lam06[:,0]-0.02,10**lam06[:,1],kind=1)\n",
    "intlam03=int1d(lam03[:,0]-0.01,10**lam03[:,1],kind=1)\n",
    "intminL=int1d(minL[:,0],10**minL[:,1],kind=1)\n",
    "\n",
    "lamlis=intminL(mass_new)\n",
    "# lamlis=intlam06(mass_new)"
   ]
  },
  {
   "cell_type": "markdown",
   "metadata": {},
   "source": [
    "### Functions and constants"
   ]
  },
  {
   "cell_type": "code",
   "execution_count": 4,
   "metadata": {
    "scrolled": true
   },
   "outputs": [],
   "source": [
    "theta_BH_const=(5*const.G*const.M_sun*u.rad/(const.c)**2).to(u.microarcsecond*u.Mpc)\n",
    "def theta_BH(logM,DA):\n",
    "    return theta_BH_const*10**logM/DA\n",
    "\n",
    "\n",
    "# M_sig relation from Ho & Kormendy 2013 in units of km/sec\n",
    "def MBH_to_sig(logM):\n",
    "    return (10**(logM-9)/0.31)**(1/4.38)*200\n",
    "\n",
    "grav_BH_const=(const.G*const.M_sun*u.rad/(u.km/u.s)**2).to(u.arcsecond*u.Mpc)\n",
    "def grav_BH(logM,DA):\n",
    "    return grav_BH_const*10**logM/DA/(MBH_to_sig(logM))**2\n",
    "\n",
    "#Co-moving to Angular Diameter distance\n",
    "cmd_to_add=int1d(logspace(-2,4.1,200),cosmo.angular_diameter_distance(np.array([z_at_value(cosmo.comoving_distance,x*u.Mpc) for x in logspace(-2,4.1,200)])).value)"
   ]
  },
  {
   "cell_type": "code",
   "execution_count": 5,
   "metadata": {},
   "outputs": [],
   "source": [
    "lis=np.linspace(0,4,1000)\n",
    "DA_max=np.max(cosmo.angular_diameter_distance(lis)).value #Mpc\n",
    "lis=lis[:np.argmax(cosmo.angular_diameter_distance(lis))]\n",
    "DAt_lis=cosmo.angular_diameter_distance(lis).value\n",
    "DCt_lis=cosmo.comoving_distance(lis)\n",
    "DCt_lis=np.append(DCt_lis,cosmo.comoving_distance(lis[-1])).value\n",
    "DAt_lis=np.append(DAt_lis,DA_max)\n",
    "add_to_cmd=int1d(DAt_lis,DCt_lis)\n"
   ]
  },
  {
   "cell_type": "markdown",
   "metadata": {},
   "source": [
    "# Analytic try\n",
    "We will try to estimate the mass function etc. using an analytic method.\n",
    "\n",
    "Say that the quasar measurments are given by\n",
    "$$f(M,\\vec{r})=\\sum_{i}\\delta^{(3)}(\\vec{r}-\\vec{r}_i)\\delta(\\log(M/M_i))$$\n",
    "The number of quasars closer than $R_{\\rm max}$ to an observer located at $\\vec{r}$ is given by\n",
    "$$N(\\vec{r})=\\int_{r'<R_{\\rm max}} d^3r'f(M,\\vec{r}+\\vec{r}').$$\n",
    "If we average $N(\\vec{r})$ over some ball defined by $R_{\\rm obs}$, we find\n",
    "$$\\bar{N}_{R_{\\rm obs}}=\\frac{3}{4\\pi R_{\\rm obs}^3}\\int_{r<R_{\\rm obs}}d^3r\\int_{r'<R_{\\rm max}} d^3r'f(M,\\vec{r}+\\vec{r}').$$\n",
    "This is simply given by\n",
    "$$\\bar{N}_{R_{\\rm obs}}=\\sum_i\\frac{V_{i,\\rm obs}}{V_{\\rm obs}}\\delta(\\log(M/M_i)),$$\n",
    "where $V_{i,\\rm obs}$ is the volume of the intersection between a ball of radius $R_{\\rm obs}$ and a ball of radius $R_{\\rm max}$ separated by a distance $r_i$. "
   ]
  },
  {
   "cell_type": "markdown",
   "metadata": {},
   "source": [
    "If we want to restrict the discussion to quasars with angular size larger than $\\theta$, we get that the mean number of such quasars is given by\n",
    "$$\\bar{N}_{R_{\\rm obs}}=\\sum_i\\frac{\\tilde{V}_{i,\\rm obs}}{V_{\\rm obs}},$$\n",
    "where $\\tilde{V}_{i,\\rm obs}$ is the volume of the intersection between a ball of radius $R_{\\rm obs}$ and a ball of radius $R_i$ separated by a distance $r_i$, where we defined $R_i$ as the minimum of $R_{\\rm max}$ and the co-moving distance that correponds with an angular diameter distance defined by\n",
    "\n",
    "$$D_A=\\frac{5 G M}{\\theta c^2}$$"
   ]
  },
  {
   "cell_type": "code",
   "execution_count": 6,
   "metadata": {},
   "outputs": [],
   "source": [
    "# RO is a point\n",
    "# RQ and DQO are arrays of smae length\n",
    "\n",
    "# two balls arent apprt?\n",
    "def isnt_appart(R1,R2,D):\n",
    "    return (D<(R1+R2))\n",
    "\n",
    "\n",
    "# one ball is contained in the other?\n",
    "def Is_inside(RO,RQ,DQO):\n",
    "    return RO+DQO<RQ, RQ+DQO<RO\n",
    "\n",
    "#Volume of a ball    \n",
    "def vol_1(R):\n",
    "    return 4*np.pi*R**3/3\n",
    "\n",
    "# Tthe volume of a lense (non-trivial intersection of two balls) is given by\n",
    "def co_volume_2(R1,R2,D):    \n",
    "    return np.pi*((R1+R2-D)**2)*(D**2-3*(R1-R2)**2+2*D*(R1+R2))/12/D\n",
    "\n",
    "\n",
    "    \n",
    "\n",
    "# combiine all cases above    \n",
    "def co_volume_2_cases(RO,RQ,DQO):\n",
    "    # keep those who are not appart\n",
    "    QO_isnt_apt_inds=isnt_appart(RO,RQ,DQO);\n",
    "    RQt=RQ[QO_isnt_apt_inds]\n",
    "    DQOt=DQO[QO_isnt_apt_inds]\n",
    "    \n",
    "    vol_2_temp=np.zeros(len(RQt))\n",
    "\n",
    "    \n",
    "    # find simple cases and fill array\n",
    "    O_in_Q_inds, Q_in_O_inds= Is_inside(RO,RQt,DQOt)\n",
    "    vol_2_temp[O_in_Q_inds]=np.full(np.sum(O_in_Q_inds),vol_1(RO))\n",
    "    vol_2_temp[Q_in_O_inds]=vol_1(RQt[Q_in_O_inds])\n",
    "    \n",
    "    # find complicated cases\n",
    "    QO_not_in=np.logical_not((O_in_Q_inds) + (Q_in_O_inds))\n",
    "    vol_2_temp[QO_not_in]=co_volume_2(RO,RQt[QO_not_in],DQOt[QO_not_in])\n",
    "    return vol_2_temp, QO_isnt_apt_inds, O_in_Q_inds, Q_in_O_inds, QO_not_in, RQt, DQOt\n",
    "\n",
    "# # For the calculatio of the VQQ matrix we also calculate the 2-volume for |R1|=|R2|=|DQQ|=NQQ \n",
    "# # This function gets only pairs that aren't disjoint\n",
    "# def co_volume_2_vector(Ra,Rb,DQQ):\n",
    "#     vol_2_temp=np.zeros(len(Ra))\n",
    "\n",
    "#     # find simple cases and fill array\n",
    "#     a_in_b_inds, b_in_a_inds= Is_inside(Ra,Rb,DQQ)\n",
    "#     vol_2_temp[a_in_b_inds]=np.full(np.sum(a_in_b_inds),vol_1(Ra[a_in_b_inds]))\n",
    "#     vol_2_temp[b_in_a_inds]=np.full(np.sum(b_in_a_inds),vol_1(Ra[b_in_a_inds]))\n",
    "    \n",
    "#     # find complicated cases\n",
    "#     QQ_not_in=np.logical_not((a_in_b_inds) + (b_in_a_inds))\n",
    "#     vol_2_temp[QQ_not_in]=co_volume_2(Ra[QQ_not_in],Rb[QQ_not_in],DQQ[QQ_not_in])\n",
    "#     return vol_2_temp, QO_isnt_apt_inds, O_in_Q_inds, Q_in_O_inds, QO_not_in, RQt, DQOt"
   ]
  },
  {
   "cell_type": "markdown",
   "metadata": {},
   "source": [
    "# Three spheres"
   ]
  },
  {
   "cell_type": "markdown",
   "metadata": {},
   "source": [
    "We are interested in a function that takes 3 **non-disjoint** balls and returns the volume of intersection. \n",
    "The computation of the 2 and 3 volumes uses a lot of similar  indgediants so we shall do both together.\n",
    "The input of the function are:\n",
    "$$ \n",
    "R_{\\rm O}=\\text{radius of observes ball}.\\\\\n",
    "R_{Q}=\\text{array of quasars radius, length }N_Q.\\\\\n",
    "D_{QO}=\\text{array of quasar - observer distances, length }N_Q.\\\\\n",
    "D_{QQ}=\\text{array of quasar - quasar distances, shape }N_Q\\times N_Q.\\\\\n",
    "V_{QQ}=\\text{co-volume of quasar - quasar distances pairs, shape }N_Q\\times N_Q.\n",
    "$$\n",
    "Implamentaion steps:\n",
    "1. Find __isnt_apt_inds__, indecies for quasrs that arent disjoint from observer using __isnt_appart(RO,RQ,DQO)__\n",
    "2. Make smaller arrays: **RQ[isnt_apt_inds]**, **DQO[isnt_apt_inds]**, **DQQ[isnt_apt_inds,isnt_apt_inds]**\n",
    "3. "
   ]
  },
  {
   "cell_type": "code",
   "execution_count": 18,
   "metadata": {},
   "outputs": [],
   "source": [
    "def eps_q_w(R1,R2,R3,D1,D2,D3):\n",
    "    R1s=R1**2\n",
    "    R2s=R2**2\n",
    "    R3s=R3**2\n",
    "    D1s=D1**2\n",
    "    D2s=D2**2\n",
    "    D3s=D3**2\n",
    "    \n",
    "    eps1=(R2s-R3s)/D1s\n",
    "    eps2=(R3s-R1s)/D2s\n",
    "    eps3=(R1s-R2s)/D3s\n",
    "    \n",
    "    q1=D1*(D2s+D3s-D1s+R2s+R3s-2*R1s+eps1*(D2s-D3s))\n",
    "    q2=D2*(D3s+D1s-D2s+R3s+R1s-2*R2s+eps2*(D3s-D1s))\n",
    "    q3=D3*(D1s+D2s-D3s+R1s+R2s-2*R3s+eps3*(D1s-D2s))\n",
    "    \n",
    "    w2=(R1s*D1s+R2s*D2s+R3s*D3s)*(D1s+D2s+D3s)-2*(R1s*D1s**2+R2s*D2s**2+R3s*D3s**2)+D1s*D2s*D3s*(eps1*eps2+eps2*eps3+eps3*eps1-1)\n",
    "    \n",
    "    return eps1, eps2, eps3, q1, q2, q3, w2\n",
    "    \n",
    "def vol_3_topo_d(R1,R2,R3,D1,D2,D3,eps1, eps2, eps3, q1, q2, q3, w2):\n",
    "    R1s=R1**2\n",
    "    R2s=R2**2\n",
    "    R3s=R3**2\n",
    "    D1s=D1**2\n",
    "    D2s=D2**2\n",
    "    D3s=D3**2\n",
    "    w=np.sqrt(w2)\n",
    "    \n",
    "    atan1=np.arctan2(2*w,q1)\n",
    "    atan2=np.arctan2(2*w,q2)\n",
    "    atan3=np.arctan2(2*w,q3)\n",
    "    \n",
    "    atan1m=np.arctan2(w*D2/R1,q2/(1-eps2))\n",
    "    atan2m=np.arctan2(w*D3/R2,q3/(1-eps3))\n",
    "    atan3m=np.arctan2(w*D1/R3,q1/(1-eps1))\n",
    "    \n",
    "    atan1p=np.arctan2(w*D3/R1,q3/(1+eps3))\n",
    "    atan2p=np.arctan2(w*D1/R2,q1/(1+eps1))\n",
    "    atan3p=np.arctan2(w*D2/R3,q2/(1+eps2))\n",
    "\n",
    "#     atan1m=np.arctan2(w*D2/R1*(1-eps2),q2)\n",
    "#     atan2m=np.arctan2(w*D3/R2*(1-eps3),q3)\n",
    "#     atan3m=np.arctan2(w*D1/R3*(1-eps1),q1)\n",
    "    \n",
    "#     atan1p=np.arctan2(w*D3/R1*(1+eps3),q3)\n",
    "#     atan2p=np.arctan2(w*D1/R2*(1+eps1),q1)\n",
    "#     atan3p=np.arctan2(w*D2/R3*(1+eps2),q2)\n",
    "    \n",
    "    U1=D1*(R2s+R3s-D1s*(1/6-eps1**2/2))*atan1/2\n",
    "    U2=D2*(R3s+R1s-D2s*(1/6-eps2**2/2))*atan2/2\n",
    "    U3=D3*(R1s+R2s-D3s*(1/6-eps3**2/2))*atan3/2\n",
    "    \n",
    "    T1=2*R1**3*(atan1m+atan1p)/3\n",
    "    T2=2*R2**3*(atan2m+atan2p)/3\n",
    "    T3=2*R3**3*(atan3m+atan3p)/3\n",
    "    \n",
    "    return w/6+T1+T2+T3-U1-U2-U3\n",
    "\n",
    "def vol_3_topo_ac(R1,R2,R3,D1,D2,D3):\n",
    "    vol_3_temp=np.zeros(len(R1))\n",
    "    \n",
    "    R1s=R1**2\n",
    "    R2s=R2**2\n",
    "    R3s=R3**2\n",
    "    D1s=D1**2\n",
    "    D2s=D2**2\n",
    "    D3s=D3**2\n",
    "    \n",
    "    S=(D1+D2+D3)/2\n",
    "    S1=(D1+R2+R3)/2\n",
    "    S2=(D2+R3+R1)/2\n",
    "    S3=(D3+R1+R2)/2\n",
    "    \n",
    "    A=np.sqrt(S*(S-D1)*(S-D2)*(S-D3))\n",
    "    A1=np.sqrt(S1*(S1-D1)*(S1-R2)*(S1-R3))\n",
    "    A2=np.sqrt(S2*(S2-D2)*(S2-R3)*(S2-R1))\n",
    "    A3=np.sqrt(S3*(S3-D3)*(S3-R1)*(S3-R2))\n",
    "    \n",
    "    L1p=(D2s-D3s+R2s-R3s)**2+16*(A+A1)**2-4*D1s*R1s\n",
    "    L1m=L1p-16*4*A*A1\n",
    "    L2p=(D3s-D1s+R3s-R1s)**2+16*(A+A2)**2-4*D2s*R2s\n",
    "    L2m=L2p-16*4*A*A2\n",
    "    L3p=(D1s-D2s+R1s-R2s)**2+16*(A+A3)**2-4*D3s*R3s\n",
    "    L3m=L3p-16*4*A*A3\n",
    "    \n",
    "    L1p_inds=L1p>0\n",
    "    L1m_inds=L1m>0\n",
    "    L2p_inds=L2p>0\n",
    "    L2m_inds=L2m>0\n",
    "    L3p_inds=L3p>0\n",
    "    L3m_inds=L3m>0\n",
    "    \n",
    "    \n",
    "    all_but_1_pos=np.logical_not(L1p_inds+L1m_inds)*L2p_inds*L2m_inds*L3p_inds*L3m_inds\n",
    "    all_but_2_pos=np.logical_not(L2p_inds+L2m_inds)*L3p_inds*L3m_inds*L1p_inds*L1m_inds\n",
    "    all_but_3_pos=np.logical_not(L3p_inds+L3m_inds)*L1p_inds*L1m_inds*L2p_inds*L2m_inds\n",
    "    \n",
    "    all_but_1_neg=L1p_inds*L1m_inds*np.logical_not(L2p_inds+L2m_inds)*np.logical_not(L3p_inds+L3m_inds)\n",
    "    all_but_2_neg=L2p_inds*L2m_inds*np.logical_not(L3p_inds+L3m_inds)*np.logical_not(L1p_inds+L1m_inds)\n",
    "    all_but_3_neg=L3p_inds*L3m_inds*np.logical_not(L1p_inds+L1m_inds)*np.logical_not(L2p_inds+L2m_inds)\n",
    "    \n",
    "    \n",
    "    vol_3_temp[all_but_1_pos]=co_volume_2(R2[all_but_1_pos],R3[all_but_1_pos],D1[all_but_1_pos])\n",
    "    vol_3_temp[all_but_2_pos]=co_volume_2(R3[all_but_2_pos],R1[all_but_2_pos],D2[all_but_2_pos])\n",
    "    vol_3_temp[all_but_3_pos]=co_volume_2(R1[all_but_3_pos],R2[all_but_3_pos],D3[all_but_3_pos])\n",
    "    \n",
    "    Rit=R1[all_but_1_neg]\n",
    "    Rjt=R2[all_but_1_neg]\n",
    "    Rkt=R3[all_but_1_neg]\n",
    "    Djt=D2[all_but_1_neg]\n",
    "    Dkt=D3[all_but_1_neg]\n",
    "    vol_3_temp[all_but_1_neg]=co_volume_2(Rit,Rjt,Dkt)+co_volume_2(Rkt,Rit,Djt)-vol_1(Rit)\n",
    "    Rit=R2[all_but_2_neg]\n",
    "    Rjt=R3[all_but_2_neg]\n",
    "    Rkt=R1[all_but_2_neg]\n",
    "    Djt=D3[all_but_2_neg]\n",
    "    Dkt=D1[all_but_2_neg]\n",
    "    vol_3_temp[all_but_2_neg]=co_volume_2(Rit,Rjt,Dkt)+co_volume_2(Rkt,Rit,Djt)-vol_1(Rit)\n",
    "    Rit=R3[all_but_3_neg]\n",
    "    Rjt=R1[all_but_3_neg]\n",
    "    Rkt=R2[all_but_3_neg]\n",
    "    Djt=D1[all_but_3_neg]\n",
    "    Dkt=D2[all_but_3_neg]\n",
    "    vol_3_temp[all_but_3_neg]=co_volume_2(Rit,Rjt,Dkt)+co_volume_2(Rkt,Rit,Djt)-vol_1(Rit)\n",
    "    \n",
    "    return vol_3_temp\n",
    "\n",
    "    \n",
    "def vol_3_topo(R1,R2,R3,D1,D2,D3):\n",
    "    eps1, eps2, eps3, q1, q2, q3, w2 =eps_q_w(R1,R2,R3,D1,D2,D3)\n",
    "    vol_3_temp=np.zeros(len(R1))\n",
    "    \n",
    "    # Separate topology d from the rest\n",
    "    case_d_inds=w2>0\n",
    "    not_d_inds=np.logical_not(case_d_inds)\n",
    "    \n",
    "    vol_3_temp[case_d_inds]=vol_3_topo_d(R1[case_d_inds],R2[case_d_inds],R3[case_d_inds],\n",
    "                                         D1[case_d_inds],D2[case_d_inds],D3[case_d_inds],eps1[case_d_inds], eps2[case_d_inds], eps3[case_d_inds], q1[case_d_inds], q2[case_d_inds], q3[case_d_inds], w2[case_d_inds])\n",
    "    \n",
    "    vol_3_temp[not_d_inds]=vol_3_topo_ac(R1[not_d_inds],R2[not_d_inds],R3[not_d_inds],D1[not_d_inds],D2[not_d_inds],D3[not_d_inds])\n",
    "    \n",
    "    return vol_3_temp"
   ]
  },
  {
   "cell_type": "code",
   "execution_count": 56,
   "metadata": {},
   "outputs": [],
   "source": [
    "def co_vol_23(RO,RQ,DQO,DQQ):\n",
    "    \n",
    "    # Calculate 2-balls volume and relevant indecies\n",
    "    vol_2_temp, QO_isnt_apt_inds, O_in_Q_inds, Q_in_O_inds, QO_not_in, RQt, DQOt = co_volume_2_cases(RO,RQ,DQO)\n",
    "    \n",
    "    # Keep only relevant QQ pairs (QO aren't disjoint)\n",
    "    DQQt=DQQ[QO_isnt_apt_inds][:,QO_isnt_apt_inds]\n",
    "    \n",
    "    # make a 2d arry out of vol_2\n",
    "    vol_2_arr=np.full(DQQt.shape,vol_2_temp)\n",
    "    \n",
    "    # Find QQ pairs that aren't disjoint\n",
    "    RQt_arr=np.full(DQQt.shape,RQt)\n",
    "    QQ_isnt_apt_inds=isnt_appart(RQt_arr,np.transpose(RQt_arr),DQQt)\n",
    "    \n",
    "\n",
    "    \n",
    "    # We will not sum over all i&j since we can sum over j>i and use our knowledge of N (c.f. eq. 8 in my note).\n",
    "    # We therefore define an upper triangular boolean matrix (keeps only j>i)\n",
    "    upper_tri_bol=np.triu(np.full(DQQt.shape,True),1)\n",
    "    \n",
    "    # initial empty volume arr\n",
    "    vol_3_temp=np.zeros(DQQt.shape)\n",
    "\n",
    "    ### Starting to fill array case by case\n",
    "    \n",
    "    # When RO ⊂ Qᵢ VO_{ij}=VO_j (and also i<-->j)\n",
    "    vol_3_temp[O_in_Q_inds]=vol_2_arr[O_in_Q_inds]\n",
    "    vol_3_temp[:,O_in_Q_inds]=np.transpose(vol_3_temp[O_in_Q_inds])\n",
    "    # keep track of what still should be filled \n",
    "    O_in_Q_arr=np.full(DQQt.shape,O_in_Q_inds)\n",
    "    not_O_in_Q_inds=np.logical_not(O_in_Q_arr+np.transpose(O_in_Q_arr))\n",
    "    good_inds=not_O_in_Q_inds*QQ_isnt_apt_inds*upper_tri_bol\n",
    "    \n",
    "    # When Qⱼ ⊂ Qᵢ VO_{ij}=VO_j etc.\n",
    "    # Find (relevant) QQ pairs that are inside one another\n",
    "    temp_vol= vol_3_temp[good_inds]\n",
    "    i_in_j_inds, j_in_i_inds= Is_inside(RQt_arr[good_inds],np.transpose(RQt_arr)[good_inds],DQQt[good_inds])\n",
    "    temp_vol[i_in_j_inds]=vol_2_arr[good_inds][i_in_j_inds]\n",
    "    temp_vol[j_in_i_inds]=np.transpose(vol_2_arr)[good_inds][j_in_i_inds]\n",
    "    vol_3_temp[good_inds]=temp_vol\n",
    "    # Update what's left to be filled\n",
    "    temp_inds=good_inds[good_inds]\n",
    "    temp_inds[j_in_i_inds+i_in_j_inds]=np.full(np.sum(j_in_i_inds+i_in_j_inds),False)\n",
    "    good_inds[good_inds]=temp_inds\n",
    "    \n",
    "    # When [(Qᵢ⊂ RO)∩¬(RO⊂ Qⱼ)]∪[(Qⱼ⊂ RO)∩¬(RO⊂ Qᵢ)], we must calculate V_{ij}, the intersection of Qᵢ and Qⱼ\n",
    "    Qi_in_O_not_in_Qj=np.outer(Q_in_O_inds,np.logical_not(O_in_Q_inds))\n",
    "    Vij_bol_arr=(Qi_in_O_not_in_Qj+np.transpose(Qi_in_O_not_in_Qj))\n",
    "    # and fill the relevant entries of the array\n",
    "    vol_3_temp[Vij_bol_arr*good_inds]=co_volume_2(RQt_arr[Vij_bol_arr*good_inds],np.transpose(RQt_arr)[Vij_bol_arr*good_inds],DQQt[Vij_bol_arr*good_inds])\n",
    "    # Update what's left to be filled\n",
    "    good_inds[Vij_bol_arr]=False*good_inds[Vij_bol_arr]\n",
    "    \n",
    "    ## And to the complicated topologies\n",
    "    long_R1=RQt_arr[good_inds]\n",
    "    long_R2=np.transpose(RQt_arr)[good_inds]\n",
    "    long_RO=0*long_R2+RO\n",
    "    \n",
    "    DQOt_arr=np.full(DQQt.shape,DQOt)\n",
    "    long_DQ1=DQOt_arr[good_inds]\n",
    "    long_DQ2=np.transpose(DQOt_arr)[good_inds]\n",
    "    \n",
    "    long_DQQ=DQQt[good_inds]\n",
    "    \n",
    "    vol_3_temp[good_inds]=vol_3_topo(long_RO,long_R1,long_R2,long_DQQ,long_DQ2,long_DQ1)\n",
    "    \n",
    "    \n",
    "    return vol_3_temp[upper_tri_bol], vol_2_temp#, long_RO,long_R1,long_R2,long_DQQ,long_DQ2,long_DQ1\n",
    "\n"
   ]
  },
  {
   "cell_type": "code",
   "execution_count": 132,
   "metadata": {},
   "outputs": [
    {
     "data": {
      "text/plain": [
       "-5.551115123125783e-17"
      ]
     },
     "execution_count": 132,
     "metadata": {},
     "output_type": "execute_result"
    }
   ],
   "source": [
    "np.arctan2(-1.,-3)+np.pi-np.arctan2(1.,3)"
   ]
  },
  {
   "cell_type": "code",
   "execution_count": 391,
   "metadata": {},
   "outputs": [],
   "source": [
    "def vol_3_topo_d_test(R1,R2,R3,D1,D2,D3,eps1, eps2, eps3, q1, q2, q3, w2):\n",
    "    #eps1, eps2, eps3, q1, q2, q3, w2 =eps_q_w(R1,R2,R3,D1,D2,D3)\n",
    "    R1s=R1**2\n",
    "    R2s=R2**2\n",
    "    R3s=R3**2\n",
    "    D1s=D1**2\n",
    "    D2s=D2**2\n",
    "    D3s=D3**2\n",
    "    \n",
    "    R1q=R1**3\n",
    "    R2q=R2**3\n",
    "    R3q=R3**3\n",
    "    \n",
    "    w=np.sqrt(w2)\n",
    "    \n",
    "    a1=np.arccos((D2s+D3s-D1s)/(2*D2*D3))\n",
    "    a2=np.arccos((D3s+D1s-D2s)/(2*D3*D1))\n",
    "    a3=np.arccos((D1s+D2s-D3s)/(2*D1*D2))\n",
    "    \n",
    "    b1=np.arccos((R1s+D2s-R3s)/(2*R1*D2))\n",
    "    b2=np.arccos((R2s+D3s-R1s)/(2*R2*D3))\n",
    "    b3=np.arccos((R3s+D1s-R2s)/(2*R3*D1))\n",
    "    \n",
    "    g1=np.arccos((D3s+R1s-R2s)/(2*D3*R1))\n",
    "    g2=np.arccos((D1s+R2s-R3s)/(2*D1*R2))\n",
    "    g3=np.arccos((D2s+R3s-R1s)/(2*D2*R3))\n",
    "    \n",
    "    s1=(a1+b1+g1)/2\n",
    "    s2=(a2+b2+g2)/2\n",
    "    s3=(a3+b3+g3)/2\n",
    "    \n",
    "    O1=4*np.arctan2(np.sqrt(np.tan(s1/2)*np.tan((s1-a1)/2)*np.tan((s1-b1)/2)*np.tan((s1-g1)/2)),1)\n",
    "    O2=4*np.arctan2(np.sqrt(np.tan(s2/2)*np.tan((s2-a2)/2)*np.tan((s2-b2)/2)*np.tan((s2-g2)/2)),1)\n",
    "    O3=4*np.arctan2(np.sqrt(np.tan(s3/2)*np.tan((s3-a3)/2)*np.tan((s3-b3)/2)*np.tan((s3-g3)/2)),1)\n",
    "    \n",
    "    \n",
    "    \n",
    "    atan1=np.arctan2(2*w,q1)\n",
    "    atan2=np.arctan2(2*w,q2)\n",
    "    atan3=np.arctan2(2*w,q3)\n",
    "    \n",
    "\n",
    "\n",
    "#     atan1m=np.arctan2(w*D2/R1*(1-eps2),q2)\n",
    "#     atan2m=np.arctan2(w*D3/R2*(1-eps3),q3)\n",
    "#     atan3m=np.arctan2(w*D1/R3*(1-eps1),q1)\n",
    "    \n",
    "#     atan1p=np.arctan2(w*D3/R1*(1+eps3),q3)\n",
    "#     atan2p=np.arctan2(w*D1/R2*(1+eps1),q1)\n",
    "#     atan3p=np.pi+np.arctan2(w*D2/R3*(1+eps2),q2)\n",
    "    \n",
    "\n",
    "\n",
    "    \n",
    "    U1=atan1*co_volume_2(R2,R3,D1)/np.pi\n",
    "    U2=atan2*co_volume_2(R3,R1,D2)/np.pi\n",
    "    U3=atan3*co_volume_2(R1,R2,D3)/np.pi\n",
    "    \n",
    "    T1=2*R1q*O1/3\n",
    "    T2=2*R2q*O2/3\n",
    "    T3=2*R3q*O3/3\n",
    "    \n",
    "    return w/6-T1-T2-T3+U1+U2+U3"
   ]
  },
  {
   "cell_type": "code",
   "execution_count": 392,
   "metadata": {},
   "outputs": [],
   "source": [
    "def eps_q_w(R1,R2,R3,D1,D2,D3):\n",
    "    R1s=R1**2\n",
    "    R2s=R2**2\n",
    "    R3s=R3**2\n",
    "    D1s=D1**2\n",
    "    D2s=D2**2\n",
    "    D3s=D3**2\n",
    "    \n",
    "    eps1=(R2s-R3s)/D1s\n",
    "    eps2=(R3s-R1s)/D2s\n",
    "    eps3=(R1s-R2s)/D3s\n",
    "    \n",
    "    q1=D1*(D2s+D3s-D1s+R2s+R3s-2*R1s+eps1*(D2s-D3s))\n",
    "    q2=D2*(D3s+D1s-D2s+R3s+R1s-2*R2s+eps2*(D3s-D1s))\n",
    "    q3=D3*(D1s+D2s-D3s+R1s+R2s-2*R3s+eps3*(D1s-D2s))\n",
    "    \n",
    "    w2=(R1s*D1s+R2s*D2s+R3s*D3s)*(D1s+D2s+D3s)-2*(R1s*D1s**2+R2s*D2s**2+R3s*D3s**2)+D1s*D2s*D3s*(eps1*eps2+eps2*eps3+eps3*eps1-1)\n",
    "    \n",
    "    return eps1, eps2, eps3, q1, q2, q3, w2\n",
    "    \n",
    "\n",
    "\n",
    "def vol_3_topo_ac(R1,R2,R3,D1,D2,D3):\n",
    "    vol_3_temp=np.zeros(len(R1))\n",
    "    \n",
    "    R1s=R1**2\n",
    "    R2s=R2**2\n",
    "    R3s=R3**2\n",
    "    D1s=D1**2\n",
    "    D2s=D2**2\n",
    "    D3s=D3**2\n",
    "    \n",
    "    S=(D1+D2+D3)/2\n",
    "    S1=(D1+R2+R3)/2\n",
    "    S2=(D2+R3+R1)/2\n",
    "    S3=(D3+R1+R2)/2\n",
    "    \n",
    "    A=np.sqrt(S*(S-D1)*(S-D2)*(S-D3))\n",
    "    A1=np.sqrt(S1*(S1-D1)*(S1-R2)*(S1-R3))\n",
    "    A2=np.sqrt(S2*(S2-D2)*(S2-R3)*(S2-R1))\n",
    "    A3=np.sqrt(S3*(S3-D3)*(S3-R1)*(S3-R2))\n",
    "    \n",
    "    L1p=(D2s-D3s+R2s-R3s)**2+16*(A+A1)**2-4*D1s*R1s\n",
    "    L1m=L1p-16*4*A*A1\n",
    "    L2p=(D3s-D1s+R3s-R1s)**2+16*(A+A2)**2-4*D2s*R2s\n",
    "    L2m=L2p-16*4*A*A2\n",
    "    L3p=(D1s-D2s+R1s-R2s)**2+16*(A+A3)**2-4*D3s*R3s\n",
    "    L3m=L3p-16*4*A*A3\n",
    "    \n",
    "    L1p_inds=L1p>0\n",
    "    L1m_inds=L1m>0\n",
    "    L2p_inds=L2p>0\n",
    "    L2m_inds=L2m>0\n",
    "    L3p_inds=L3p>0\n",
    "    L3m_inds=L3m>0\n",
    "    \n",
    "    \n",
    "    all_but_1_pos=np.logical_not(L1p_inds+L1m_inds)*L2p_inds*L2m_inds*L3p_inds*L3m_inds\n",
    "    all_but_2_pos=np.logical_not(L2p_inds+L2m_inds)*L3p_inds*L3m_inds*L1p_inds*L1m_inds\n",
    "    all_but_3_pos=np.logical_not(L3p_inds+L3m_inds)*L1p_inds*L1m_inds*L2p_inds*L2m_inds\n",
    "    \n",
    "    all_but_1_neg=L1p_inds*L1m_inds*np.logical_not(L2p_inds+L2m_inds)*np.logical_not(L3p_inds+L3m_inds)\n",
    "    all_but_2_neg=L2p_inds*L2m_inds*np.logical_not(L3p_inds+L3m_inds)*np.logical_not(L1p_inds+L1m_inds)\n",
    "    all_but_3_neg=L3p_inds*L3m_inds*np.logical_not(L1p_inds+L1m_inds)*np.logical_not(L2p_inds+L2m_inds)\n",
    "    \n",
    "    \n",
    "    vol_3_temp[all_but_1_pos]=co_volume_2(R2[all_but_1_pos],R3[all_but_1_pos],D1[all_but_1_pos])\n",
    "    vol_3_temp[all_but_2_pos]=co_volume_2(R3[all_but_2_pos],R1[all_but_2_pos],D2[all_but_2_pos])\n",
    "    vol_3_temp[all_but_3_pos]=co_volume_2(R1[all_but_3_pos],R2[all_but_3_pos],D3[all_but_3_pos])\n",
    "    \n",
    "    Rit=R1[all_but_1_neg]\n",
    "    Rjt=R2[all_but_1_neg]\n",
    "    Rkt=R3[all_but_1_neg]\n",
    "    Djt=D2[all_but_1_neg]\n",
    "    Dkt=D3[all_but_1_neg]\n",
    "    vol_3_temp[all_but_1_neg]=co_volume_2(Rit,Rjt,Dkt)+co_volume_2(Rkt,Rit,Djt)-vol_1(Rit)\n",
    "    Rit=R2[all_but_2_neg]\n",
    "    Rjt=R3[all_but_2_neg]\n",
    "    Rkt=R1[all_but_2_neg]\n",
    "    Djt=D3[all_but_2_neg]\n",
    "    Dkt=D1[all_but_2_neg]\n",
    "    vol_3_temp[all_but_2_neg]=co_volume_2(Rit,Rjt,Dkt)+co_volume_2(Rkt,Rit,Djt)-vol_1(Rit)\n",
    "    Rit=R3[all_but_3_neg]\n",
    "    Rjt=R1[all_but_3_neg]\n",
    "    Rkt=R2[all_but_3_neg]\n",
    "    Djt=D1[all_but_3_neg]\n",
    "    Dkt=D2[all_but_3_neg]\n",
    "    vol_3_temp[all_but_3_neg]=co_volume_2(Rit,Rjt,Dkt)+co_volume_2(Rkt,Rit,Djt)-vol_1(Rit)\n",
    "    \n",
    "    return vol_3_temp\n",
    "\n",
    "    \n",
    "def vol_3_topo_test(R1,R2,R3,D1,D2,D3):\n",
    "    eps1, eps2, eps3, q1, q2, q3, w2 =eps_q_w(R1,R2,R3,D1,D2,D3)\n",
    "    vol_3_temp=np.zeros(len(R1))\n",
    "    \n",
    "    # Separate topology d from the rest\n",
    "    case_d_inds=w2>=0\n",
    "    not_d_inds=np.logical_not(case_d_inds)\n",
    "    \n",
    "    vol_3_temp[case_d_inds]=vol_3_topo_d_test(R1[case_d_inds],R2[case_d_inds],R3[case_d_inds],\n",
    "                                         D1[case_d_inds],D2[case_d_inds],D3[case_d_inds],eps1[case_d_inds], eps2[case_d_inds], eps3[case_d_inds], q1[case_d_inds], q2[case_d_inds], q3[case_d_inds], w2[case_d_inds])\n",
    "    \n",
    "    vol_3_temp[not_d_inds]=vol_3_topo_ac(R1[not_d_inds],R2[not_d_inds],R3[not_d_inds],D1[not_d_inds],D2[not_d_inds],D3[not_d_inds])\n",
    "    \n",
    "    return vol_3_temp, eps1, eps2, eps3, q1, q2, q3, w2"
   ]
  },
  {
   "cell_type": "code",
   "execution_count": 393,
   "metadata": {},
   "outputs": [],
   "source": [
    "def co_vol_23_test(RO,RQ,DQO,DQQ):\n",
    "    \n",
    "    # Calculate 2-balls volume and relevant indecies\n",
    "    vol_2_temp, QO_isnt_apt_inds, O_in_Q_inds, Q_in_O_inds, QO_not_in, RQt, DQOt = co_volume_2_cases(RO,RQ,DQO)\n",
    "    \n",
    "    # Keep only relevant QQ pairs (QO aren't disjoint)\n",
    "    DQQt=DQQ[QO_isnt_apt_inds][:,QO_isnt_apt_inds]\n",
    "    \n",
    "    # make a 2d arry out of vol_2\n",
    "    vol_2_arr=np.full(DQQt.shape,vol_2_temp)\n",
    "    \n",
    "    # Find QQ pairs that aren't disjoint\n",
    "    RQt_arr=np.full(DQQt.shape,RQt)\n",
    "    QQ_isnt_apt_inds=isnt_appart(RQt_arr,np.transpose(RQt_arr),DQQt)\n",
    "    \n",
    "\n",
    "    \n",
    "    # We will not sum over all i&j since we can sum over j>i and use our knowledge of N (c.f. eq. 8 in my note).\n",
    "    # We therefore define an upper triangular boolean matrix (keeps only j>i)\n",
    "    upper_tri_bol=np.triu(np.full(DQQt.shape,True),1)\n",
    "    \n",
    "    # initial empty volume arr\n",
    "    vol_3_temp=np.zeros(DQQt.shape)\n",
    "    w2_temp=np.ones(DQQt.shape)\n",
    "    e1_temp=np.zeros(DQQt.shape)\n",
    "    e2_temp=np.zeros(DQQt.shape)\n",
    "    e3_temp=np.zeros(DQQt.shape)\n",
    "    q1_temp=np.zeros(DQQt.shape)\n",
    "    q2_temp=np.zeros(DQQt.shape)\n",
    "    q3_temp=np.zeros(DQQt.shape)\n",
    "\n",
    "    \n",
    "    ### Starting to fill array case by case\n",
    "    \n",
    "    # When RO ⊂ Qᵢ VO_{ij}=VO_j (and also i<-->j)\n",
    "    vol_3_temp[O_in_Q_inds]=vol_2_arr[O_in_Q_inds]\n",
    "    vol_3_temp[:,O_in_Q_inds]=np.transpose(vol_3_temp[O_in_Q_inds])\n",
    "    # keep track of what still should be filled \n",
    "    O_in_Q_arr=np.full(DQQt.shape,O_in_Q_inds)\n",
    "    not_O_in_Q_inds=np.logical_not(O_in_Q_arr+np.transpose(O_in_Q_arr))\n",
    "    good_inds=not_O_in_Q_inds*QQ_isnt_apt_inds*upper_tri_bol\n",
    "    \n",
    "    # When Qⱼ ⊂ Qᵢ VO_{ij}=VO_j etc.\n",
    "    # Find (relevant) QQ pairs that are inside one another\n",
    "    temp_vol= vol_3_temp[good_inds]\n",
    "    i_in_j_inds, j_in_i_inds= Is_inside(RQt_arr[good_inds],np.transpose(RQt_arr)[good_inds],DQQt[good_inds])\n",
    "    temp_vol[i_in_j_inds]=vol_2_arr[good_inds][i_in_j_inds]\n",
    "    temp_vol[j_in_i_inds]=np.transpose(vol_2_arr)[good_inds][j_in_i_inds]\n",
    "    vol_3_temp[good_inds]=temp_vol\n",
    "    # Update what's left to be filled\n",
    "    temp_inds=good_inds[good_inds]\n",
    "    temp_inds[j_in_i_inds+i_in_j_inds]=np.full(np.sum(j_in_i_inds+i_in_j_inds),False)\n",
    "    good_inds[good_inds]=temp_inds\n",
    "    \n",
    "    # When [(Qᵢ⊂ RO)∩¬(RO⊂ Qⱼ)]∪[(Qⱼ⊂ RO)∩¬(RO⊂ Qᵢ)], we must calculate V_{ij}, the intersection of Qᵢ and Qⱼ\n",
    "    Qi_in_O_not_in_Qj=np.outer(Q_in_O_inds,np.logical_not(O_in_Q_inds))\n",
    "    Vij_bol_arr=(Qi_in_O_not_in_Qj+np.transpose(Qi_in_O_not_in_Qj))\n",
    "    # and fill the relevant entries of the array\n",
    "    vol_3_temp[Vij_bol_arr*good_inds]=co_volume_2(RQt_arr[Vij_bol_arr*good_inds],np.transpose(RQt_arr)[Vij_bol_arr*good_inds],DQQt[Vij_bol_arr*good_inds])\n",
    "    # Update what's left to be filled\n",
    "    good_inds[Vij_bol_arr]=False*good_inds[Vij_bol_arr]\n",
    "    \n",
    "    ## And to the complicated topologies\n",
    "    long_R1=RQt_arr[good_inds]\n",
    "    long_R2=np.transpose(RQt_arr)[good_inds]\n",
    "    long_RO=0*long_R2+RO\n",
    "    \n",
    "    DQOt_arr=np.full(DQQt.shape,DQOt)\n",
    "    long_DQ1=DQOt_arr[good_inds]\n",
    "    long_DQ2=np.transpose(DQOt_arr)[good_inds]\n",
    "    \n",
    "    long_DQQ=DQQt[good_inds]\n",
    "    \n",
    "    vol_3_temp[good_inds],e1_temp[good_inds],e2_temp[good_inds],e3_temp[good_inds],q1_temp[good_inds],q2_temp[good_inds],q3_temp[good_inds],w2_temp[good_inds]=vol_3_topo_test(long_RO,long_R1,long_R2,long_DQQ,long_DQ2,long_DQ1)\n",
    "    \n",
    "    \n",
    "    return i_in_j_inds, j_in_i_inds,vol_3_temp[upper_tri_bol], vol_2_temp, e1_temp[upper_tri_bol],e2_temp[upper_tri_bol],e3_temp[upper_tri_bol],q1_temp[upper_tri_bol],q2_temp[upper_tri_bol],q3_temp[upper_tri_bol],w2_temp[upper_tri_bol]\n",
    "\n"
   ]
  },
  {
   "cell_type": "code",
   "execution_count": 395,
   "metadata": {},
   "outputs": [],
   "source": [
    "## Try\n",
    "rtest=np.loadtxt('./checks/rtest.csv',delimiter=',')\n",
    "Dtest=np.loadtxt('./checks/Dtest.csv',delimiter=',')\n",
    "DDtest=np.loadtxt('./checks/DDtest.csv',delimiter=',')\n",
    "aa,bb,atest,btest,e1,e2,e3,q1,q2,q3,w2=co_vol_23_test(1,rtest,Dtest,DDtest)\n",
    "np.sum(btest)/vol_1(1),np.sum(atest)/vol_1(1),np.sqrt(2*np.sum(atest)/vol_1(1)+np.sum(btest)/vol_1(1)-(np.sum(btest)/vol_1(1))**2)\n",
    "np.savetxt('./checks/vol3.csv',atest)\n",
    "np.savetxt('./checks/vol2.csv',btest)\n",
    "np.savetxt('./checks/e1.csv',e1)\n",
    "np.savetxt('./checks/e2.csv',e2)\n",
    "np.savetxt('./checks/e3.csv',e3)\n",
    "np.savetxt('./checks/q1.csv',q1)\n",
    "np.savetxt('./checks/q2.csv',q2)\n",
    "np.savetxt('./checks/q3.csv',q3)\n",
    "np.savetxt('./checks/w2.csv',w2)"
   ]
  },
  {
   "cell_type": "code",
   "execution_count": 384,
   "metadata": {},
   "outputs": [
    {
     "data": {
      "text/plain": [
       "array([0.69104185])"
      ]
     },
     "execution_count": 384,
     "metadata": {},
     "output_type": "execute_result"
    }
   ],
   "source": [
    "def vol_3_topo_d_test(R1,R2,R3,D1,D2,D3):#,eps1, eps2, eps3, q1, q2, q3, w2):\n",
    "    eps1, eps2, eps3, q1, q2, q3, w2 =eps_q_w(R1,R2,R3,D1,D2,D3)\n",
    "    R1s=R1**2\n",
    "    R2s=R2**2\n",
    "    R3s=R3**2\n",
    "    D1s=D1**2\n",
    "    D2s=D2**2\n",
    "    D3s=D3**2\n",
    "    \n",
    "    R1q=R1**3\n",
    "    R2q=R2**3\n",
    "    R3q=R3**3\n",
    "    \n",
    "    w=np.sqrt(w2)\n",
    "    \n",
    "    a1=np.arccos((D2s+D3s-D1s)/(2*D2*D3))\n",
    "    a2=np.arccos((D3s+D1s-D2s)/(2*D3*D1))\n",
    "    a3=np.arccos((D1s+D2s-D3s)/(2*D1*D2))\n",
    "    \n",
    "    b1=np.arccos((R1s+D2s-R3s)/(2*R1*D2))\n",
    "    b2=np.arccos((R2s+D3s-R1s)/(2*R2*D3))\n",
    "    b3=np.arccos((R3s+D1s-R2s)/(2*R3*D1))\n",
    "    \n",
    "    g1=np.arccos((D3s+R1s-R2s)/(2*D3*R1))\n",
    "    g2=np.arccos((D1s+R2s-R3s)/(2*D1*R2))\n",
    "    g3=np.arccos((D2s+R3s-R1s)/(2*D2*R3))\n",
    "    \n",
    "    s1=(a1+b1+g1)/2\n",
    "    s2=(a2+b2+g2)/2\n",
    "    s3=(a3+b3+g3)/2\n",
    "    \n",
    "    O1=4*np.arctan2(np.sqrt(np.tan(s1/2)*np.tan((s1-a1)/2)*np.tan((s1-b1)/2)*np.tan((s1-g1)/2)),1)\n",
    "    O2=4*np.arctan2(np.sqrt(np.tan(s2/2)*np.tan((s2-a2)/2)*np.tan((s2-b2)/2)*np.tan((s2-g2)/2)),1)\n",
    "    O3=4*np.arctan2(np.sqrt(np.tan(s3/2)*np.tan((s3-a3)/2)*np.tan((s3-b3)/2)*np.tan((s3-g3)/2)),1)\n",
    "    \n",
    "    \n",
    "    \n",
    "    atan1=np.arctan2(2*w,q1)\n",
    "    atan2=np.arctan2(2*w,q2)\n",
    "    atan3=np.arctan2(2*w,q3)\n",
    "    \n",
    "#     atan1m=np.arctan2(w*D2/R1,q2/(1-eps2))\n",
    "#     atan2m=np.arctan2(w*D3/R2,q3/(1-eps3))\n",
    "#     atan3m=np.arctan2(w*D1/R3,q1/(1-eps1))\n",
    "    \n",
    "#     atan1p=np.arctan2(w*D3/R1,q3/(1+eps3))\n",
    "#     atan2p=np.arctan2(w*D1/R2,q1/(1+eps1))\n",
    "#     atan3p=np.arctan2(w*D2/R3,q2/(1+eps2))\n",
    "\n",
    "    \n",
    "\n",
    "\n",
    "#     atan1m=np.arctan2(w*D2/R1*(1-eps2),q2)\n",
    "#     atan2m=np.arctan2(w*D3/R2*(1-eps3),q3)\n",
    "#     atan3m=np.arctan2(w*D1/R3*(1-eps1),q1)\n",
    "    \n",
    "#     atan1p=np.arctan2(w*D3/R1*(1+eps3),q3)\n",
    "#     atan2p=np.arctan2(w*D1/R2*(1+eps1),q1)\n",
    "#     atan3p=np.pi+np.arctan2(w*D2/R3*(1+eps2),q2)\n",
    "    \n",
    "    \n",
    "#     atan1m[(1<eps2) & (q2<0)]=atan1m[(1<eps2) & (q2<0)]+np.pi\n",
    "#     atan2m[(1<eps3) & (q3<0)]=atan2m[(1<eps3) & (q3<0)]+np.pi\n",
    "#     atan3m[(1<eps1) & (q1<0)]=atan3m[(1<eps1) & (q1<0)]+np.pi\n",
    "    \n",
    "#     atan1p[(eps3<-1) & (q3<0)]=atan1p[(eps3<-1) & (q3<0)]+np.pi\n",
    "#     atan2p[(eps1<-1) & (q1<0)]=atan2p[(eps1<-1) & (q1<0)]+np.pi\n",
    "#     atan3p[(eps2<-1) & (q2<0)]=atan3p[(eps2<-1) & (q2<0)]+np.pi\n",
    "\n",
    "\n",
    "    \n",
    "    U1=atan1*co_volume_2(R2,R3,D1)/np.pi\n",
    "    U2=atan2*co_volume_2(R3,R1,D2)/np.pi\n",
    "    U3=atan3*co_volume_2(R1,R2,D3)/np.pi\n",
    "    \n",
    "    T1=2*R1q*O1/3\n",
    "    T2=2*R2q*O2/3\n",
    "    T3=2*R3q*O3/3\n",
    "    \n",
    "    return w/6-T1-T2-T3+U1+U2+U3\n",
    "\n",
    "bad_pairs=np.array([[[i,j] for j in range(10)] for i in range (10)])[np.triu(np.full((10,10),True),1)][atest<0]\n",
    "bad_pair=bad_pairs[1]\n",
    "# rang=linspace(0.95,1.05,200)\n",
    "# tet=np.array([vol_3_topo_d_test(np.array([x]),rtest[bad_pair[0]],rtest[bad_pair[1]],DDtest[bad_pair[0],bad_pair[1]],Dtest[bad_pair[1]],Dtest[bad_pair[0]]) for x in rang])\n",
    "# plt.plot(rang,tet[:,1])\n",
    "# plt.plot(rang,tet[:,2])\n",
    "# plt.plot(rang,tet[:,3])\n",
    "# plt.plot(rang,tet[:,4])\n",
    "# plt.plot(rang,tet[:,5])\n",
    "# plt.plot(rang,tet[:,6])\n",
    "# plt.show()\n",
    "# bad_pair+1\n",
    "vol_3_topo_d_test(np.array([1]),rtest[bad_pair[0]],rtest[bad_pair[1]],DDtest[bad_pair[0],bad_pair[1]],Dtest[bad_pair[1]],Dtest[bad_pair[0]])\n",
    "# vol_3_topo_d_test(1,2,3,4,3,2)"
   ]
  },
  {
   "cell_type": "code",
   "execution_count": 381,
   "metadata": {},
   "outputs": [
    {
     "data": {
      "text/plain": [
       "(0.9692494205380933,\n",
       " 0.7211049395929031,\n",
       " 0.39848457292399275,\n",
       " 0.6321757160160643,\n",
       " 0.46767721347055047)"
      ]
     },
     "execution_count": 381,
     "metadata": {},
     "output_type": "execute_result"
    }
   ],
   "source": [
    "bad_pair=bad_pairs[2]\n",
    "bad_pair+1,vol_3_topo_d_test(np.array([1]),rtest[bad_pair[0]],rtest[bad_pair[1]],DDtest[bad_pair[0],bad_pair[1]],Dtest[bad_pair[1]],Dtest[bad_pair[0]])[0]\n",
    "rtest[bad_pair[0]],rtest[bad_pair[1]],DDtest[bad_pair[0],bad_pair[1]],Dtest[bad_pair[1]],Dtest[bad_pair[0]]"
   ]
  },
  {
   "cell_type": "code",
   "execution_count": 367,
   "metadata": {},
   "outputs": [
    {
     "data": {
      "text/plain": [
       "array([1.13211065])"
      ]
     },
     "execution_count": 367,
     "metadata": {},
     "output_type": "execute_result"
    }
   ],
   "source": [
    "# np.array([1]),rtest[bad_pair[0]],rtest[bad_pair[1]],DDtest[bad_pair[0],bad_pair[1]],Dtest[bad_pair[1]],Dtest[bad_pair[0]]\n",
    "\n",
    "vol_3_topo_d_test(np.array([1]),rtest[bad_pair[0]],rtest[bad_pair[1]],DDtest[bad_pair[0],bad_pair[1]],Dtest[bad_pair[1]],Dtest[bad_pair[0]])[0]"
   ]
  },
  {
   "cell_type": "code",
   "execution_count": 10,
   "metadata": {},
   "outputs": [],
   "source": [
    "# Find R_i for a given mass\n",
    "\n",
    "# Fake D_A*theta[muas] list (i.e. it may be larger than D_A max)\n",
    "fake_DA_theta=theta_BH(mass_new,u.Mpc)/u.microarcsecond\n",
    "def Ri_theta(theta,Rmax):\n",
    "    DA_temp=fake_DA_theta/theta # divide by theta to get the fake DA\n",
    "    bol_temp=DA_temp>=DA_max # where is it larger than DA_max?\n",
    "    DA_temp[bol_temp]=np.full(np.sum(bol_temp),DA_max) # replace the ones larger than DA_max by DA_max\n",
    "    DC_temp=add_to_cmd(DA_temp) # convert DA-->DC\n",
    "    bol_temp=DC_temp>Rmax # find which ones are larger than Rmax\n",
    "    DC_temp[bol_temp]=np.full(np.sum(bol_temp),Rmax) # replace the ones larger than R_max by R_max\n",
    "    return DC_temp"
   ]
  },
  {
   "cell_type": "code",
   "execution_count": 11,
   "metadata": {},
   "outputs": [],
   "source": [
    "#Make cartsian\n",
    "def Rvec(r,q,f):\n",
    "    X=r*np.sin(q)*np.cos(f)\n",
    "    Y=r*np.sin(q)*np.sin(f)\n",
    "    Z=r*np.cos(q)\n",
    "    return np.transpose(np.array([X,Y,Z]))\n",
    "\n",
    "\n",
    "\n",
    "\n",
    "\n",
    "QSO_car=Rvec(DC_new.value,dec_new*np.pi/180,ra_new*np.pi/180)"
   ]
  },
  {
   "cell_type": "code",
   "execution_count": 12,
   "metadata": {},
   "outputs": [],
   "source": [
    "QQ_dsit=cdist(QSO_car,QSO_car)"
   ]
  },
  {
   "cell_type": "code",
   "execution_count": 90,
   "metadata": {},
   "outputs": [
    {
     "data": {
      "text/plain": [
       "630.957344480193"
      ]
     },
     "execution_count": 90,
     "metadata": {},
     "output_type": "execute_result"
    }
   ],
   "source": [
    "OBS_ball_pos=np.loadtxt('../digi/ball_200_29_pos.csv',delimiter=',')\n",
    "rmax=10**np.loadtxt('../digi/ball_range_pos.csv',delimiter=',')[28]\n",
    "dist_lis=cdist(OBS_ball_pos,QSO_car)\n",
    "rmax"
   ]
  },
  {
   "cell_type": "code",
   "execution_count": 91,
   "metadata": {},
   "outputs": [
    {
     "data": {
      "application/vnd.jupyter.widget-view+json": {
       "model_id": "9c6eb6ce7a864c35a1b0c6d02ec115dd",
       "version_major": 2,
       "version_minor": 0
      },
      "text/plain": [
       "HBox(children=(IntProgress(value=0, max=30), HTML(value='')))"
      ]
     },
     "metadata": {},
     "output_type": "display_data"
    },
    {
     "name": "stdout",
     "output_type": "stream",
     "text": [
      "\n"
     ]
    },
    {
     "data": {
      "application/vnd.jupyter.widget-view+json": {
       "model_id": "4816640388764ea1af95d3170008df11",
       "version_major": 2,
       "version_minor": 0
      },
      "text/plain": [
       "HBox(children=(IntProgress(value=0, max=30), HTML(value='')))"
      ]
     },
     "metadata": {},
     "output_type": "display_data"
    },
    {
     "name": "stdout",
     "output_type": "stream",
     "text": [
      "\n"
     ]
    },
    {
     "data": {
      "application/vnd.jupyter.widget-view+json": {
       "model_id": "2e56b85a7abb44b2a985ba4502bcff7a",
       "version_major": 2,
       "version_minor": 0
      },
      "text/plain": [
       "HBox(children=(IntProgress(value=0, max=30), HTML(value='')))"
      ]
     },
     "metadata": {},
     "output_type": "display_data"
    },
    {
     "name": "stdout",
     "output_type": "stream",
     "text": [
      "\n"
     ]
    }
   ],
   "source": [
    "theta_logs=np.logspace(-2,2,30)\n",
    "\n",
    "\n",
    "arr_theta_700=np.ones((len(theta_logs),len(dist_lis)))\n",
    "for i,x in enumerate(tqdm(theta_logs)):\n",
    "    temp=Ri_theta(x,rmax)\n",
    "    arr_theta_700[i]=np.array([np.sum(co_volume_2_cases(200,temp,j)[0]/vol_1(200)) for j in (dist_lis)])\n",
    "    \n",
    "arr_theta_500=np.ones((len(theta_logs),len(dist_lis)))\n",
    "for i,x in enumerate(tqdm(theta_logs)):\n",
    "    temp=Ri_theta(x,500)\n",
    "    arr_theta_500[i]=np.array([np.sum(co_volume_2_cases(200,temp,j)[0]/vol_1(200)) for j in (dist_lis)])\n",
    "    \n",
    "arr_theta_300=np.ones((len(theta_logs),len(dist_lis)))\n",
    "for i,x in enumerate(tqdm(theta_logs)):\n",
    "    temp=Ri_theta(x,300)\n",
    "    arr_theta_300[i]=np.array([np.sum(co_volume_2_cases(200,temp,j)[0]/vol_1(200)) for j in (dist_lis)])"
   ]
  },
  {
   "cell_type": "code",
   "execution_count": 92,
   "metadata": {},
   "outputs": [
    {
     "data": {
      "image/png": "[encoded data removed]",
      "text/plain": [
       "<Figure size 576x432 with 1 Axes>"
      ]
     },
     "metadata": {
      "needs_background": "light"
     },
     "output_type": "display_data"
    }
   ],
   "source": [
    "fig, ax = plt.subplots(figsize=(8, 6), tight_layout=True)\n",
    "\n",
    "ax.loglog(theta_logs,np.mean(arr_theta_700,axis=1))\n",
    "ax.fill_between(theta_logs,np.mean(arr_theta_700,axis=1)+np.std(arr_theta_700,axis=1),np.mean(arr_theta_700,axis=1)-np.std(arr_theta_700,axis=1), alpha=0.2,\n",
    "                label=r'$D_{C,\\rm{max}}=631\\;\\rm{Mpc}$')\n",
    "\n",
    "ax.loglog(theta_logs,np.mean(arr_theta_500,axis=1))\n",
    "ax.fill_between(theta_logs,np.mean(arr_theta_500,axis=1)+np.std(arr_theta_500,axis=1),np.mean(arr_theta_500,axis=1)-np.std(arr_theta_500,axis=1), alpha=0.2,\n",
    "                label=r'$D_{C,\\rm{max}}=500\\;\\rm{Mpc}$')\n",
    "\n",
    "ax.loglog(theta_logs,np.mean(arr_theta_300,axis=1))\n",
    "ax.fill_between(theta_logs,np.mean(arr_theta_300,axis=1)+np.std(arr_theta_300,axis=1),np.mean(arr_theta_300,axis=1)-np.std(arr_theta_300,axis=1), alpha=0.2,\n",
    "                label=r'$D_{C,\\rm{max}}=300\\;\\rm{Mpc}$')\n",
    "\n",
    "plt.xlim(.05,40)\n",
    "plt.ylim(.1,2*10**3)\n",
    "\n",
    "plt.ylabel(r'$\\rm{Nuber\\;of\\;Quasars}$', fontsize=14)\n",
    "plt.xlabel(r'$\\theta_{\\rm min}\\;\\left[\\mu{\\rm arcsec}\\right]$', fontsize=14)\n",
    "\n",
    "ax.legend(loc='upper right',fontsize=10) \n",
    "\n",
    "plt.show()"
   ]
  },
  {
   "cell_type": "code",
   "execution_count": 97,
   "metadata": {},
   "outputs": [
    {
     "data": {
      "application/vnd.jupyter.widget-view+json": {
       "model_id": "10186bc604144ef88e4a81b6559ad73c",
       "version_major": 2,
       "version_minor": 0
      },
      "text/plain": [
       "HBox(children=(IntProgress(value=0, max=30), HTML(value='')))"
      ]
     },
     "metadata": {},
     "output_type": "display_data"
    },
    {
     "data": {
      "application/vnd.jupyter.widget-view+json": {
       "model_id": "",
       "version_major": 2,
       "version_minor": 0
      },
      "text/plain": [
       "HBox(children=(IntProgress(value=0, max=153), HTML(value='')))"
      ]
     },
     "metadata": {},
     "output_type": "display_data"
    },
    {
     "data": {
      "application/vnd.jupyter.widget-view+json": {
       "model_id": "",
       "version_major": 2,
       "version_minor": 0
      },
      "text/plain": [
       "HBox(children=(IntProgress(value=0, max=153), HTML(value='')))"
      ]
     },
     "metadata": {},
     "output_type": "display_data"
    },
    {
     "data": {
      "application/vnd.jupyter.widget-view+json": {
       "model_id": "",
       "version_major": 2,
       "version_minor": 0
      },
      "text/plain": [
       "HBox(children=(IntProgress(value=0, max=153), HTML(value='')))"
      ]
     },
     "metadata": {},
     "output_type": "display_data"
    },
    {
     "data": {
      "application/vnd.jupyter.widget-view+json": {
       "model_id": "",
       "version_major": 2,
       "version_minor": 0
      },
      "text/plain": [
       "HBox(children=(IntProgress(value=0, max=153), HTML(value='')))"
      ]
     },
     "metadata": {},
     "output_type": "display_data"
    },
    {
     "data": {
      "application/vnd.jupyter.widget-view+json": {
       "model_id": "",
       "version_major": 2,
       "version_minor": 0
      },
      "text/plain": [
       "HBox(children=(IntProgress(value=0, max=153), HTML(value='')))"
      ]
     },
     "metadata": {},
     "output_type": "display_data"
    },
    {
     "data": {
      "application/vnd.jupyter.widget-view+json": {
       "model_id": "",
       "version_major": 2,
       "version_minor": 0
      },
      "text/plain": [
       "HBox(children=(IntProgress(value=0, max=153), HTML(value='')))"
      ]
     },
     "metadata": {},
     "output_type": "display_data"
    },
    {
     "data": {
      "application/vnd.jupyter.widget-view+json": {
       "model_id": "",
       "version_major": 2,
       "version_minor": 0
      },
      "text/plain": [
       "HBox(children=(IntProgress(value=0, max=153), HTML(value='')))"
      ]
     },
     "metadata": {},
     "output_type": "display_data"
    },
    {
     "data": {
      "application/vnd.jupyter.widget-view+json": {
       "model_id": "",
       "version_major": 2,
       "version_minor": 0
      },
      "text/plain": [
       "HBox(children=(IntProgress(value=0, max=153), HTML(value='')))"
      ]
     },
     "metadata": {},
     "output_type": "display_data"
    },
    {
     "data": {
      "application/vnd.jupyter.widget-view+json": {
       "model_id": "",
       "version_major": 2,
       "version_minor": 0
      },
      "text/plain": [
       "HBox(children=(IntProgress(value=0, max=153), HTML(value='')))"
      ]
     },
     "metadata": {},
     "output_type": "display_data"
    },
    {
     "data": {
      "application/vnd.jupyter.widget-view+json": {
       "model_id": "",
       "version_major": 2,
       "version_minor": 0
      },
      "text/plain": [
       "HBox(children=(IntProgress(value=0, max=153), HTML(value='')))"
      ]
     },
     "metadata": {},
     "output_type": "display_data"
    },
    {
     "data": {
      "application/vnd.jupyter.widget-view+json": {
       "model_id": "",
       "version_major": 2,
       "version_minor": 0
      },
      "text/plain": [
       "HBox(children=(IntProgress(value=0, max=153), HTML(value='')))"
      ]
     },
     "metadata": {},
     "output_type": "display_data"
    },
    {
     "data": {
      "application/vnd.jupyter.widget-view+json": {
       "model_id": "",
       "version_major": 2,
       "version_minor": 0
      },
      "text/plain": [
       "HBox(children=(IntProgress(value=0, max=153), HTML(value='')))"
      ]
     },
     "metadata": {},
     "output_type": "display_data"
    },
    {
     "data": {
      "application/vnd.jupyter.widget-view+json": {
       "model_id": "",
       "version_major": 2,
       "version_minor": 0
      },
      "text/plain": [
       "HBox(children=(IntProgress(value=0, max=153), HTML(value='')))"
      ]
     },
     "metadata": {},
     "output_type": "display_data"
    },
    {
     "data": {
      "application/vnd.jupyter.widget-view+json": {
       "model_id": "",
       "version_major": 2,
       "version_minor": 0
      },
      "text/plain": [
       "HBox(children=(IntProgress(value=0, max=153), HTML(value='')))"
      ]
     },
     "metadata": {},
     "output_type": "display_data"
    },
    {
     "data": {
      "application/vnd.jupyter.widget-view+json": {
       "model_id": "",
       "version_major": 2,
       "version_minor": 0
      },
      "text/plain": [
       "HBox(children=(IntProgress(value=0, max=153), HTML(value='')))"
      ]
     },
     "metadata": {},
     "output_type": "display_data"
    },
    {
     "data": {
      "application/vnd.jupyter.widget-view+json": {
       "model_id": "",
       "version_major": 2,
       "version_minor": 0
      },
      "text/plain": [
       "HBox(children=(IntProgress(value=0, max=153), HTML(value='')))"
      ]
     },
     "metadata": {},
     "output_type": "display_data"
    },
    {
     "data": {
      "application/vnd.jupyter.widget-view+json": {
       "model_id": "",
       "version_major": 2,
       "version_minor": 0
      },
      "text/plain": [
       "HBox(children=(IntProgress(value=0, max=153), HTML(value='')))"
      ]
     },
     "metadata": {},
     "output_type": "display_data"
    },
    {
     "data": {
      "application/vnd.jupyter.widget-view+json": {
       "model_id": "",
       "version_major": 2,
       "version_minor": 0
      },
      "text/plain": [
       "HBox(children=(IntProgress(value=0, max=153), HTML(value='')))"
      ]
     },
     "metadata": {},
     "output_type": "display_data"
    },
    {
     "data": {
      "application/vnd.jupyter.widget-view+json": {
       "model_id": "",
       "version_major": 2,
       "version_minor": 0
      },
      "text/plain": [
       "HBox(children=(IntProgress(value=0, max=153), HTML(value='')))"
      ]
     },
     "metadata": {},
     "output_type": "display_data"
    },
    {
     "data": {
      "application/vnd.jupyter.widget-view+json": {
       "model_id": "",
       "version_major": 2,
       "version_minor": 0
      },
      "text/plain": [
       "HBox(children=(IntProgress(value=0, max=153), HTML(value='')))"
      ]
     },
     "metadata": {},
     "output_type": "display_data"
    },
    {
     "data": {
      "application/vnd.jupyter.widget-view+json": {
       "model_id": "",
       "version_major": 2,
       "version_minor": 0
      },
      "text/plain": [
       "HBox(children=(IntProgress(value=0, max=153), HTML(value='')))"
      ]
     },
     "metadata": {},
     "output_type": "display_data"
    },
    {
     "data": {
      "application/vnd.jupyter.widget-view+json": {
       "model_id": "",
       "version_major": 2,
       "version_minor": 0
      },
      "text/plain": [
       "HBox(children=(IntProgress(value=0, max=153), HTML(value='')))"
      ]
     },
     "metadata": {},
     "output_type": "display_data"
    },
    {
     "data": {
      "application/vnd.jupyter.widget-view+json": {
       "model_id": "",
       "version_major": 2,
       "version_minor": 0
      },
      "text/plain": [
       "HBox(children=(IntProgress(value=0, max=153), HTML(value='')))"
      ]
     },
     "metadata": {},
     "output_type": "display_data"
    },
    {
     "data": {
      "application/vnd.jupyter.widget-view+json": {
       "model_id": "",
       "version_major": 2,
       "version_minor": 0
      },
      "text/plain": [
       "HBox(children=(IntProgress(value=0, max=153), HTML(value='')))"
      ]
     },
     "metadata": {},
     "output_type": "display_data"
    },
    {
     "data": {
      "application/vnd.jupyter.widget-view+json": {
       "model_id": "",
       "version_major": 2,
       "version_minor": 0
      },
      "text/plain": [
       "HBox(children=(IntProgress(value=0, max=153), HTML(value='')))"
      ]
     },
     "metadata": {},
     "output_type": "display_data"
    },
    {
     "data": {
      "application/vnd.jupyter.widget-view+json": {
       "model_id": "",
       "version_major": 2,
       "version_minor": 0
      },
      "text/plain": [
       "HBox(children=(IntProgress(value=0, max=153), HTML(value='')))"
      ]
     },
     "metadata": {},
     "output_type": "display_data"
    },
    {
     "data": {
      "application/vnd.jupyter.widget-view+json": {
       "model_id": "",
       "version_major": 2,
       "version_minor": 0
      },
      "text/plain": [
       "HBox(children=(IntProgress(value=0, max=153), HTML(value='')))"
      ]
     },
     "metadata": {},
     "output_type": "display_data"
    },
    {
     "data": {
      "application/vnd.jupyter.widget-view+json": {
       "model_id": "",
       "version_major": 2,
       "version_minor": 0
      },
      "text/plain": [
       "HBox(children=(IntProgress(value=0, max=153), HTML(value='')))"
      ]
     },
     "metadata": {},
     "output_type": "display_data"
    },
    {
     "data": {
      "application/vnd.jupyter.widget-view+json": {
       "model_id": "",
       "version_major": 2,
       "version_minor": 0
      },
      "text/plain": [
       "HBox(children=(IntProgress(value=0, max=153), HTML(value='')))"
      ]
     },
     "metadata": {},
     "output_type": "display_data"
    },
    {
     "data": {
      "application/vnd.jupyter.widget-view+json": {
       "model_id": "",
       "version_major": 2,
       "version_minor": 0
      },
      "text/plain": [
       "HBox(children=(IntProgress(value=0, max=153), HTML(value='')))"
      ]
     },
     "metadata": {},
     "output_type": "display_data"
    },
    {
     "name": "stdout",
     "output_type": "stream",
     "text": [
      "\n"
     ]
    }
   ],
   "source": [
    "volvol=vol_1(200)\n",
    "N_rmax=np.zeros(len(theta_logs))\n",
    "S_rmax=np.zeros(len(theta_logs))\n",
    "N_temp=np.zeros(len(dist_lis))\n",
    "S_temp=np.zeros(len(dist_lis))\n",
    "for i,x in enumerate(tqdm(theta_logs)):\n",
    "    temp=Ri_theta(x,rmax)\n",
    "    for j,y in enumerate(tqdm(dist_lis,leave=False)):\n",
    "        temp3,temp2=co_vol_23(200,temp,y,QQ_dsit)\n",
    "        N_temp[j]=np.sum(temp2)/volvol\n",
    "        S_temp[j]=2*np.sum(temp3)/volvol\n",
    "    N_rmax[i]=np.mean(N_temp)\n",
    "    S_rmax[i]=np.mean(S_temp)\n"
   ]
  },
  {
   "cell_type": "code",
   "execution_count": 104,
   "metadata": {},
   "outputs": [],
   "source": [
    "N_rmax=N_rmax*vol_1(50)/vol_1(200)\n",
    "S_rmax=S_rmax*vol_1(50)/vol_1(200)\n",
    "DN_rmax=np.sqrt(S_rmax+N_rmax-N_rmax**2)"
   ]
  },
  {
   "cell_type": "code",
   "execution_count": 110,
   "metadata": {},
   "outputs": [
    {
     "data": {
      "text/plain": [
       "array([1.38620277, 1.37146307, 1.35591086, 1.32947209, 1.28712923,\n",
       "       1.23224432, 1.15011671, 1.06434043, 0.97148307, 0.88828636,\n",
       "       0.81142572, 0.75027965, 0.69577604, 0.66208998, 0.63861154,\n",
       "       0.60631698, 0.59275989, 0.54485069, 0.5287283 , 0.42774686,\n",
       "       0.42315082, 0.35639545, 0.31944945, 0.28894792, 0.24498332,\n",
       "       0.14955307, 0.09367911, 0.07286177, 0.04959717, 0.03037168])"
      ]
     },
     "execution_count": 110,
     "metadata": {},
     "output_type": "execute_result"
    }
   ],
   "source": [
    "N_rmax/DN_rmax"
   ]
  },
  {
   "cell_type": "code",
   "execution_count": 109,
   "metadata": {},
   "outputs": [
    {
     "data": {
      "image/png": "[encoded data removed]",
      "text/plain": [
       "<Figure size 576x432 with 1 Axes>"
      ]
     },
     "metadata": {
      "needs_background": "light"
     },
     "output_type": "display_data"
    }
   ],
   "source": [
    "ig, ax = plt.subplots(figsize=(8, 6), tight_layout=True)\n",
    "\n",
    "ax.loglog(theta_logs,np.mean(arr_theta_700,axis=1))\n",
    "ax.fill_between(theta_logs,np.mean(arr_theta_700,axis=1)+np.std(arr_theta_700,axis=1),np.mean(arr_theta_700,axis=1)-np.std(arr_theta_700,axis=1), alpha=0.2,\n",
    "                label=r'$D_{C,\\rm{max}}=700\\;\\rm{Mpc}$')\n",
    "\n",
    "ax.loglog(theta_logs,np.mean(arr_theta_500,axis=1))\n",
    "ax.fill_between(theta_logs,np.mean(arr_theta_500,axis=1)+np.std(arr_theta_500,axis=1),np.mean(arr_theta_500,axis=1)-np.std(arr_theta_500,axis=1), alpha=0.2,\n",
    "                label=r'$D_{C,\\rm{max}}=500\\;\\rm{Mpc}$')\n",
    "\n",
    "ax.loglog(theta_logs,np.mean(arr_theta_300,axis=1))\n",
    "ax.fill_between(theta_logs,np.mean(arr_theta_300,axis=1)+np.std(arr_theta_300,axis=1),np.mean(arr_theta_300,axis=1)-np.std(arr_theta_300,axis=1), alpha=0.2,\n",
    "                label=r'$D_{C,\\rm{max}}=300\\;\\rm{Mpc}$')\n",
    "\n",
    "ax.loglog(theta_logs,N_rmax)\n",
    "ax.fill_between(theta_logs,N_rmax+DN_rmax,N_rmax-DN_rmax,alpha=0.2)\n",
    "\n",
    "plt.xlim(.05,40)\n",
    "plt.ylim(.1,2*10**3)\n",
    "\n",
    "plt.ylabel(r'$\\rm{Nuber\\;of\\;Quasars}$', fontsize=14)\n",
    "plt.xlabel(r'$\\theta_{\\rm min}\\;\\left[\\mu{\\rm arcsec}\\right]$', fontsize=14)\n",
    "\n",
    "ax.legend(loc='upper right',fontsize=10) \n",
    "\n",
    "plt.show()"
   ]
  },
  {
   "cell_type": "markdown",
   "metadata": {},
   "source": [
    "# Distance"
   ]
  },
  {
   "cell_type": "code",
   "execution_count": 84,
   "metadata": {},
   "outputs": [
    {
     "data": {
      "application/vnd.jupyter.widget-view+json": {
       "model_id": "f6f6fbe322de457dac8041aba0495167",
       "version_major": 2,
       "version_minor": 0
      },
      "text/plain": [
       "HBox(children=(IntProgress(value=0, max=30), HTML(value='')))"
      ]
     },
     "metadata": {},
     "output_type": "display_data"
    },
    {
     "name": "stdout",
     "output_type": "stream",
     "text": [
      "\n"
     ]
    },
    {
     "ename": "ValueError",
     "evalue": "operands could not be broadcast together with shapes (2568,) (38928,) ",
     "output_type": "error",
     "traceback": [
      "\u001b[0;31m---------------------------------------------------------------------------\u001b[0m",
      "\u001b[0;31mValueError\u001b[0m                                Traceback (most recent call last)",
      "\u001b[0;32m<ipython-input-84-8ddf5701f14f>\u001b[0m in \u001b[0;36m<module>\u001b[0;34m\u001b[0m\n\u001b[1;32m      4\u001b[0m \u001b[0;32mfor\u001b[0m \u001b[0mi\u001b[0m\u001b[0;34m,\u001b[0m\u001b[0mx\u001b[0m \u001b[0;32min\u001b[0m \u001b[0menumerate\u001b[0m\u001b[0;34m(\u001b[0m\u001b[0mtqdm\u001b[0m\u001b[0;34m(\u001b[0m\u001b[0mdist_logs\u001b[0m\u001b[0;34m)\u001b[0m\u001b[0;34m)\u001b[0m\u001b[0;34m:\u001b[0m\u001b[0;34m\u001b[0m\u001b[0;34m\u001b[0m\u001b[0m\n\u001b[1;32m      5\u001b[0m     \u001b[0mtemp\u001b[0m\u001b[0;34m=\u001b[0m\u001b[0mRi_theta\u001b[0m\u001b[0;34m(\u001b[0m\u001b[0;36m.1\u001b[0m\u001b[0;34m,\u001b[0m\u001b[0mx\u001b[0m\u001b[0;34m)\u001b[0m\u001b[0;34m\u001b[0m\u001b[0;34m\u001b[0m\u001b[0m\n\u001b[0;32m----> 6\u001b[0;31m     \u001b[0marr_dist_p1\u001b[0m\u001b[0;34m[\u001b[0m\u001b[0mi\u001b[0m\u001b[0;34m]\u001b[0m\u001b[0;34m=\u001b[0m\u001b[0mnp\u001b[0m\u001b[0;34m.\u001b[0m\u001b[0marray\u001b[0m\u001b[0;34m(\u001b[0m\u001b[0;34m[\u001b[0m\u001b[0mnp\u001b[0m\u001b[0;34m.\u001b[0m\u001b[0msum\u001b[0m\u001b[0;34m(\u001b[0m\u001b[0mco_volume_2_cases\u001b[0m\u001b[0;34m(\u001b[0m\u001b[0;36m800\u001b[0m\u001b[0;34m-\u001b[0m\u001b[0mx\u001b[0m\u001b[0;34m,\u001b[0m\u001b[0mtemp\u001b[0m\u001b[0;34m,\u001b[0m\u001b[0mj\u001b[0m\u001b[0;34m)\u001b[0m\u001b[0;34m/\u001b[0m\u001b[0;34m(\u001b[0m\u001b[0;36m4\u001b[0m\u001b[0;34m*\u001b[0m\u001b[0mnp\u001b[0m\u001b[0;34m.\u001b[0m\u001b[0mpi\u001b[0m\u001b[0;34m*\u001b[0m\u001b[0;34m(\u001b[0m\u001b[0;36m800\u001b[0m\u001b[0;34m-\u001b[0m\u001b[0mx\u001b[0m\u001b[0;34m)\u001b[0m\u001b[0;34m**\u001b[0m\u001b[0;36m3\u001b[0m\u001b[0;34m/\u001b[0m\u001b[0;36m3\u001b[0m\u001b[0;34m)\u001b[0m\u001b[0;34m)\u001b[0m \u001b[0;32mfor\u001b[0m \u001b[0mj\u001b[0m \u001b[0;32min\u001b[0m \u001b[0;34m(\u001b[0m\u001b[0mdist_lis\u001b[0m\u001b[0;34m)\u001b[0m\u001b[0;34m]\u001b[0m\u001b[0;34m)\u001b[0m\u001b[0;34m\u001b[0m\u001b[0;34m\u001b[0m\u001b[0m\n\u001b[0m\u001b[1;32m      7\u001b[0m \u001b[0;34m\u001b[0m\u001b[0m\n\u001b[1;32m      8\u001b[0m \u001b[0marr_dist_1\u001b[0m\u001b[0;34m=\u001b[0m\u001b[0mnp\u001b[0m\u001b[0;34m.\u001b[0m\u001b[0mones\u001b[0m\u001b[0;34m(\u001b[0m\u001b[0;34m(\u001b[0m\u001b[0mlen\u001b[0m\u001b[0;34m(\u001b[0m\u001b[0mdist_logs\u001b[0m\u001b[0;34m)\u001b[0m\u001b[0;34m,\u001b[0m\u001b[0mlen\u001b[0m\u001b[0;34m(\u001b[0m\u001b[0mdist_lis\u001b[0m\u001b[0;34m)\u001b[0m\u001b[0;34m)\u001b[0m\u001b[0;34m)\u001b[0m\u001b[0;34m\u001b[0m\u001b[0;34m\u001b[0m\u001b[0m\n",
      "\u001b[0;32m<ipython-input-84-8ddf5701f14f>\u001b[0m in \u001b[0;36m<listcomp>\u001b[0;34m(.0)\u001b[0m\n\u001b[1;32m      4\u001b[0m \u001b[0;32mfor\u001b[0m \u001b[0mi\u001b[0m\u001b[0;34m,\u001b[0m\u001b[0mx\u001b[0m \u001b[0;32min\u001b[0m \u001b[0menumerate\u001b[0m\u001b[0;34m(\u001b[0m\u001b[0mtqdm\u001b[0m\u001b[0;34m(\u001b[0m\u001b[0mdist_logs\u001b[0m\u001b[0;34m)\u001b[0m\u001b[0;34m)\u001b[0m\u001b[0;34m:\u001b[0m\u001b[0;34m\u001b[0m\u001b[0;34m\u001b[0m\u001b[0m\n\u001b[1;32m      5\u001b[0m     \u001b[0mtemp\u001b[0m\u001b[0;34m=\u001b[0m\u001b[0mRi_theta\u001b[0m\u001b[0;34m(\u001b[0m\u001b[0;36m.1\u001b[0m\u001b[0;34m,\u001b[0m\u001b[0mx\u001b[0m\u001b[0;34m)\u001b[0m\u001b[0;34m\u001b[0m\u001b[0;34m\u001b[0m\u001b[0m\n\u001b[0;32m----> 6\u001b[0;31m     \u001b[0marr_dist_p1\u001b[0m\u001b[0;34m[\u001b[0m\u001b[0mi\u001b[0m\u001b[0;34m]\u001b[0m\u001b[0;34m=\u001b[0m\u001b[0mnp\u001b[0m\u001b[0;34m.\u001b[0m\u001b[0marray\u001b[0m\u001b[0;34m(\u001b[0m\u001b[0;34m[\u001b[0m\u001b[0mnp\u001b[0m\u001b[0;34m.\u001b[0m\u001b[0msum\u001b[0m\u001b[0;34m(\u001b[0m\u001b[0mco_volume_2_cases\u001b[0m\u001b[0;34m(\u001b[0m\u001b[0;36m800\u001b[0m\u001b[0;34m-\u001b[0m\u001b[0mx\u001b[0m\u001b[0;34m,\u001b[0m\u001b[0mtemp\u001b[0m\u001b[0;34m,\u001b[0m\u001b[0mj\u001b[0m\u001b[0;34m)\u001b[0m\u001b[0;34m/\u001b[0m\u001b[0;34m(\u001b[0m\u001b[0;36m4\u001b[0m\u001b[0;34m*\u001b[0m\u001b[0mnp\u001b[0m\u001b[0;34m.\u001b[0m\u001b[0mpi\u001b[0m\u001b[0;34m*\u001b[0m\u001b[0;34m(\u001b[0m\u001b[0;36m800\u001b[0m\u001b[0;34m-\u001b[0m\u001b[0mx\u001b[0m\u001b[0;34m)\u001b[0m\u001b[0;34m**\u001b[0m\u001b[0;36m3\u001b[0m\u001b[0;34m/\u001b[0m\u001b[0;36m3\u001b[0m\u001b[0;34m)\u001b[0m\u001b[0;34m)\u001b[0m \u001b[0;32mfor\u001b[0m \u001b[0mj\u001b[0m \u001b[0;32min\u001b[0m \u001b[0;34m(\u001b[0m\u001b[0mdist_lis\u001b[0m\u001b[0;34m)\u001b[0m\u001b[0;34m]\u001b[0m\u001b[0;34m)\u001b[0m\u001b[0;34m\u001b[0m\u001b[0;34m\u001b[0m\u001b[0m\n\u001b[0m\u001b[1;32m      7\u001b[0m \u001b[0;34m\u001b[0m\u001b[0m\n\u001b[1;32m      8\u001b[0m \u001b[0marr_dist_1\u001b[0m\u001b[0;34m=\u001b[0m\u001b[0mnp\u001b[0m\u001b[0;34m.\u001b[0m\u001b[0mones\u001b[0m\u001b[0;34m(\u001b[0m\u001b[0;34m(\u001b[0m\u001b[0mlen\u001b[0m\u001b[0;34m(\u001b[0m\u001b[0mdist_logs\u001b[0m\u001b[0;34m)\u001b[0m\u001b[0;34m,\u001b[0m\u001b[0mlen\u001b[0m\u001b[0;34m(\u001b[0m\u001b[0mdist_lis\u001b[0m\u001b[0;34m)\u001b[0m\u001b[0;34m)\u001b[0m\u001b[0;34m)\u001b[0m\u001b[0;34m\u001b[0m\u001b[0;34m\u001b[0m\u001b[0m\n",
      "\u001b[0;32m<__array_function__ internals>\u001b[0m in \u001b[0;36msum\u001b[0;34m(*args, **kwargs)\u001b[0m\n",
      "\u001b[0;32m~/opt/anaconda3/lib/python3.7/site-packages/numpy/core/fromnumeric.py\u001b[0m in \u001b[0;36msum\u001b[0;34m(a, axis, dtype, out, keepdims, initial, where)\u001b[0m\n\u001b[1;32m   2180\u001b[0m \u001b[0;34m\u001b[0m\u001b[0m\n\u001b[1;32m   2181\u001b[0m     return _wrapreduction(a, np.add, 'sum', axis, dtype, out, keepdims=keepdims,\n\u001b[0;32m-> 2182\u001b[0;31m                           initial=initial, where=where)\n\u001b[0m\u001b[1;32m   2183\u001b[0m \u001b[0;34m\u001b[0m\u001b[0m\n\u001b[1;32m   2184\u001b[0m \u001b[0;34m\u001b[0m\u001b[0m\n",
      "\u001b[0;32m~/opt/anaconda3/lib/python3.7/site-packages/numpy/core/fromnumeric.py\u001b[0m in \u001b[0;36m_wrapreduction\u001b[0;34m(obj, ufunc, method, axis, dtype, out, **kwargs)\u001b[0m\n\u001b[1;32m     88\u001b[0m                 \u001b[0;32mreturn\u001b[0m \u001b[0mreduction\u001b[0m\u001b[0;34m(\u001b[0m\u001b[0maxis\u001b[0m\u001b[0;34m=\u001b[0m\u001b[0maxis\u001b[0m\u001b[0;34m,\u001b[0m \u001b[0mout\u001b[0m\u001b[0;34m=\u001b[0m\u001b[0mout\u001b[0m\u001b[0;34m,\u001b[0m \u001b[0;34m**\u001b[0m\u001b[0mpasskwargs\u001b[0m\u001b[0;34m)\u001b[0m\u001b[0;34m\u001b[0m\u001b[0;34m\u001b[0m\u001b[0m\n\u001b[1;32m     89\u001b[0m \u001b[0;34m\u001b[0m\u001b[0m\n\u001b[0;32m---> 90\u001b[0;31m     \u001b[0;32mreturn\u001b[0m \u001b[0mufunc\u001b[0m\u001b[0;34m.\u001b[0m\u001b[0mreduce\u001b[0m\u001b[0;34m(\u001b[0m\u001b[0mobj\u001b[0m\u001b[0;34m,\u001b[0m \u001b[0maxis\u001b[0m\u001b[0;34m,\u001b[0m \u001b[0mdtype\u001b[0m\u001b[0;34m,\u001b[0m \u001b[0mout\u001b[0m\u001b[0;34m,\u001b[0m \u001b[0;34m**\u001b[0m\u001b[0mpasskwargs\u001b[0m\u001b[0;34m)\u001b[0m\u001b[0;34m\u001b[0m\u001b[0;34m\u001b[0m\u001b[0m\n\u001b[0m\u001b[1;32m     91\u001b[0m \u001b[0;34m\u001b[0m\u001b[0m\n\u001b[1;32m     92\u001b[0m \u001b[0;34m\u001b[0m\u001b[0m\n",
      "\u001b[0;31mValueError\u001b[0m: operands could not be broadcast together with shapes (2568,) (38928,) "
     ]
    }
   ],
   "source": [
    "dist_logs=np.logspace(0,np.log10(750),30)\n",
    "\n",
    "arr_dist_p1=np.ones((len(dist_logs),len(dist_lis)))\n",
    "for i,x in enumerate(tqdm(dist_logs)):\n",
    "    temp=Ri_theta(.1,x)\n",
    "    arr_dist_p1[i]=np.array([np.sum(co_volume_2_cases(800-x,temp,j)/(4*np.pi*(800-x)**3/3)) for j in (dist_lis)])\n",
    "    \n",
    "arr_dist_1=np.ones((len(dist_logs),len(dist_lis)))\n",
    "for i,x in enumerate(tqdm(dist_logs)):\n",
    "    temp=Ri_theta(1,x)\n",
    "    arr_dist_1[i]=np.array([np.sum(co_volume_2_cases(800-x,temp,j)/(4*np.pi*(800-x)**3/3)) for j in (dist_lis)])\n",
    "    \n",
    "    \n",
    "arr_dist_10=np.ones((len(dist_logs),len(dist_lis)))\n",
    "for i,x in enumerate(tqdm(dist_logs)):\n",
    "    temp=Ri_theta(10,x)\n",
    "    arr_dist_10[i]=np.array([np.sum(co_volume_2_cases(800-x,temp,j)/(4*np.pi*(800-x)**3/3)) for j in (dist_lis)])\n"
   ]
  },
  {
   "cell_type": "code",
   "execution_count": 83,
   "metadata": {
    "scrolled": false
   },
   "outputs": [
    {
     "ename": "NameError",
     "evalue": "name 'arr_dist_1' is not defined",
     "output_type": "error",
     "traceback": [
      "\u001b[0;31m---------------------------------------------------------------------------\u001b[0m",
      "\u001b[0;31mNameError\u001b[0m                                 Traceback (most recent call last)",
      "\u001b[0;32m<ipython-input-83-b7f39a2ee061>\u001b[0m in \u001b[0;36m<module>\u001b[0;34m\u001b[0m\n\u001b[1;32m      2\u001b[0m \u001b[0mdist_logs_diff\u001b[0m\u001b[0;34m=\u001b[0m\u001b[0mnp\u001b[0m\u001b[0;34m.\u001b[0m\u001b[0msqrt\u001b[0m\u001b[0;34m(\u001b[0m\u001b[0mdist_logs\u001b[0m\u001b[0;34m[\u001b[0m\u001b[0;36m1\u001b[0m\u001b[0;34m:\u001b[0m\u001b[0;34m]\u001b[0m\u001b[0;34m*\u001b[0m\u001b[0mdist_logs\u001b[0m\u001b[0;34m[\u001b[0m\u001b[0;34m:\u001b[0m\u001b[0;34m-\u001b[0m\u001b[0;36m1\u001b[0m\u001b[0;34m]\u001b[0m\u001b[0;34m)\u001b[0m\u001b[0;34m\u001b[0m\u001b[0;34m\u001b[0m\u001b[0m\n\u001b[1;32m      3\u001b[0m \u001b[0marr_diff_dist_p1\u001b[0m\u001b[0;34m=\u001b[0m\u001b[0mnp\u001b[0m\u001b[0;34m.\u001b[0m\u001b[0mdiff\u001b[0m\u001b[0;34m(\u001b[0m\u001b[0marr_dist_p1\u001b[0m\u001b[0;34m,\u001b[0m\u001b[0maxis\u001b[0m\u001b[0;34m=\u001b[0m\u001b[0;36m0\u001b[0m\u001b[0;34m)\u001b[0m\u001b[0;34m/\u001b[0m\u001b[0mdd\u001b[0m\u001b[0;34m\u001b[0m\u001b[0;34m\u001b[0m\u001b[0m\n\u001b[0;32m----> 4\u001b[0;31m \u001b[0marr_diff_dist_1\u001b[0m\u001b[0;34m=\u001b[0m\u001b[0mnp\u001b[0m\u001b[0;34m.\u001b[0m\u001b[0mdiff\u001b[0m\u001b[0;34m(\u001b[0m\u001b[0marr_dist_1\u001b[0m\u001b[0;34m,\u001b[0m\u001b[0maxis\u001b[0m\u001b[0;34m=\u001b[0m\u001b[0;36m0\u001b[0m\u001b[0;34m)\u001b[0m\u001b[0;34m/\u001b[0m\u001b[0mdd\u001b[0m\u001b[0;34m\u001b[0m\u001b[0;34m\u001b[0m\u001b[0m\n\u001b[0m\u001b[1;32m      5\u001b[0m \u001b[0marr_diff_dist_10\u001b[0m\u001b[0;34m=\u001b[0m\u001b[0mnp\u001b[0m\u001b[0;34m.\u001b[0m\u001b[0mdiff\u001b[0m\u001b[0;34m(\u001b[0m\u001b[0marr_dist_10\u001b[0m\u001b[0;34m,\u001b[0m\u001b[0maxis\u001b[0m\u001b[0;34m=\u001b[0m\u001b[0;36m0\u001b[0m\u001b[0;34m)\u001b[0m\u001b[0;34m/\u001b[0m\u001b[0mdd\u001b[0m\u001b[0;34m\u001b[0m\u001b[0;34m\u001b[0m\u001b[0m\n\u001b[1;32m      6\u001b[0m \u001b[0;34m\u001b[0m\u001b[0m\n",
      "\u001b[0;31mNameError\u001b[0m: name 'arr_dist_1' is not defined"
     ]
    }
   ],
   "source": [
    "dd=np.diff(np.log10(dist_logs))[0]\n",
    "dist_logs_diff=np.sqrt(dist_logs[1:]*dist_logs[:-1])\n",
    "arr_diff_dist_p1=np.diff(arr_dist_p1,axis=0)/dd\n",
    "arr_diff_dist_1=np.diff(arr_dist_1,axis=0)/dd\n",
    "arr_diff_dist_10=np.diff(arr_dist_10,axis=0)/dd\n",
    "\n",
    "fig, ax = plt.subplots(figsize=(8, 6), tight_layout=True)\n",
    "\n",
    "ax.loglog(dist_logs_diff,np.mean(arr_diff_dist_p1,axis=1))\n",
    "ax.fill_between(dist_logs_diff,np.mean(arr_diff_dist_p1,axis=1)+np.std(arr_diff_dist_p1,axis=1),np.mean(arr_diff_dist_p1,axis=1)-np.std(arr_diff_dist_p1,axis=1), alpha=0.2,\n",
    "                label=r'$\\theta_{\\rm min}=0.1\\;\\mu{\\rm arcsec}$')\n",
    "\n",
    "ax.loglog(dist_logs_diff,np.mean(arr_diff_dist_1,axis=1))\n",
    "ax.fill_between(dist_logs_diff,np.mean(arr_diff_dist_1,axis=1)+np.std(arr_diff_dist_1,axis=1),np.mean(arr_diff_dist_1,axis=1)-np.std(arr_diff_dist_1,axis=1), alpha=0.2,\n",
    "                label=r'$\\theta_{\\rm min}=1\\;\\mu{\\rm arcsec}$')\n",
    "\n",
    "ax.loglog(dist_logs_diff,np.mean(arr_diff_dist_10,axis=1))\n",
    "ax.fill_between(dist_logs_diff,np.mean(arr_diff_dist_10,axis=1)+np.std(arr_diff_dist_10,axis=1),np.mean(arr_diff_dist_10,axis=1)-np.std(arr_diff_dist_10,axis=1), alpha=0.2,\n",
    "                label=r'$\\theta_{\\rm min}=10\\;\\mu{\\rm arcsec}$')\n",
    "\n",
    "plt.xlim(1,600)\n",
    "plt.ylim(10**(-4),2*10**3)\n",
    "\n",
    "plt.ylabel(r'$\\rm{dN_{QSO}/d\\log_{10}D_C}$', fontsize=14)\n",
    "plt.xlabel(r'$D_{C,\\rm{max}}\\;\\left[\\rm{Mpc}\\right]$', fontsize=14)\n",
    "\n",
    "ax.legend(loc='upper left',fontsize=10) \n",
    "\n",
    "plt.show()"
   ]
  },
  {
   "cell_type": "markdown",
   "metadata": {},
   "source": [
    "# Random Arrays"
   ]
  },
  {
   "cell_type": "markdown",
   "metadata": {},
   "source": [
    "# Import random crap"
   ]
  },
  {
   "cell_type": "code",
   "execution_count": 6,
   "metadata": {},
   "outputs": [],
   "source": [
    "r_max=700 #Mpc\n",
    "z_rmax=z_at_value(cosmo.comoving_distance,r_max*u.Mpc)\n",
    "\n",
    "ran_dist_lis=np.loadtxt('./data/ran_dist_700.csv',delimiter=',')\n",
    "ran_dec_lis=np.loadtxt('./data/ran_dec_700.csv',delimiter=',')\n",
    "ran_ra_lis=np.loadtxt('./data/ran_ra_700.csv',delimiter=',')\n",
    "\n",
    "# rand_cords=np.array([SkyCoord(ran_ra_lis[i]*u.degree, ran_dec_lis[i]*u.degree, frame='icrs', distance = x*u.Mpc) for i,x in enumerate(tqdm(ran_dist_lis[:200000]))])"
   ]
  },
  {
   "cell_type": "code",
   "execution_count": 7,
   "metadata": {},
   "outputs": [],
   "source": [
    "\n",
    "OBS_car=Rvec(ran_dist_lis,ran_dec_lis*np.pi/180,ran_ra_lis*np.pi/180)[:25000]"
   ]
  },
  {
   "cell_type": "code",
   "execution_count": 8,
   "metadata": {},
   "outputs": [],
   "source": [
    "np.savetxt('./data/QSO_x.csv',QSO_car[:,0])\n",
    "np.savetxt('./data/QSO_y.csv',QSO_car[:,1])\n",
    "np.savetxt('./data/QSO_z.csv',QSO_car[:,2])"
   ]
  },
  {
   "cell_type": "code",
   "execution_count": 58,
   "metadata": {},
   "outputs": [],
   "source": [
    "# ran_ball_100Mpc=np.loadtxt('./data/ran_ball_100.csv',delimiter=',');\n",
    "# ran_ball_car=Rvec(ran_ball_100Mpc[:,0],ran_ball_100Mpc[:,1]*np.pi/180,ran_ball_100Mpc[:,2]*np.pi/180);\n",
    "# ran_ball_pos=np.loadtxt('./data/ran_ball_pos.csv',delimiter=',')\n",
    "# OBS_ball_arr=np.array([ran_ball_car+x for x in ran_ball_pos])\n",
    "OBS_ball_long=np.loadtxt('./data/ball_100_car.csv',delimiter=',')"
   ]
  },
  {
   "cell_type": "code",
   "execution_count": 60,
   "metadata": {},
   "outputs": [
    {
     "data": {
      "text/plain": [
       "(250000, 3)"
      ]
     },
     "execution_count": 60,
     "metadata": {},
     "output_type": "execute_result"
    }
   ],
   "source": [
    "OBS_ball_long.shape"
   ]
  },
  {
   "cell_type": "code",
   "execution_count": 10,
   "metadata": {},
   "outputs": [],
   "source": [
    "from scipy.spatial.distance import cdist\n",
    "\n",
    "rand_dist=cdist(OBS_car,QSO_car)\n",
    "# rand_dist=cdist(OBS_ball_long,QSO_car)\n",
    "\n",
    "# rand_dist=np.array([(x.separation_3d(QSO_coord).value) for x in tqdm(rand_cords)])\n",
    "\n"
   ]
  },
  {
   "cell_type": "code",
   "execution_count": 11,
   "metadata": {},
   "outputs": [
    {
     "data": {
      "application/vnd.jupyter.widget-view+json": {
       "model_id": "50d63ca583ff4ca48c4740d71a22ef11",
       "version_major": 2,
       "version_minor": 0
      },
      "text/plain": [
       "HBox(children=(FloatProgress(value=0.0, max=25000.0), HTML(value='')))"
      ]
     },
     "metadata": {},
     "output_type": "display_data"
    },
    {
     "name": "stdout",
     "output_type": "stream",
     "text": [
      "\n"
     ]
    }
   ],
   "source": [
    "# A boolean array that tells you when a rnadom point and a quasrs are less than r_max appart.\n",
    "rand_N=len(rand_dist[:,1])\n",
    "\n",
    "dist_bool=np.array([rand_dist[i,:]<r_max for i in trange(rand_N)])"
   ]
  }
 ],
 "metadata": {
  "kernelspec": {
   "display_name": "Python 3",
   "language": "python",
   "name": "python3"
  },
  "language_info": {
   "codemirror_mode": {
    "name": "ipython",
    "version": 3
   },
   "file_extension": ".py",
   "mimetype": "text/x-python",
   "name": "python",
   "nbconvert_exporter": "python",
   "pygments_lexer": "ipython3",
   "version": "3.7.4"
  },
  "widgets": {
   "application/vnd.jupyter.widget-state+json": {
    "state": {},
    "version_major": 2,
    "version_minor": 0
   }
  }
 },
 "nbformat": 4,
 "nbformat_minor": 4
}
